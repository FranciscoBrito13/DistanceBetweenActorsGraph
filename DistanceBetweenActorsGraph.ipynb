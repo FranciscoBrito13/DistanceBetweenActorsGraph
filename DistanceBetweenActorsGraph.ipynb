{
  "cells": [
    {
      "cell_type": "markdown",
      "source": [
        "#**IMPORTS📥**\n"
      ],
      "metadata": {
        "id": "wNbjKU6O7HrS"
      }
    },
    {
      "cell_type": "code",
      "execution_count": null,
      "metadata": {
        "id": "o6EBOsTYQGcM"
      },
      "outputs": [],
      "source": [
        "import random as rnd\n",
        "from google.colab import drive\n",
        "from collections import defaultdict\n",
        "import time\n",
        "import math\n",
        "import matplotlib.pyplot as plt\n",
        "import sys"
      ]
    },
    {
      "cell_type": "code",
      "source": [
        "drive.mount('/content/drive')"
      ],
      "metadata": {
        "id": "FcmqGfuorivX",
        "colab": {
          "base_uri": "https://localhost:8080/"
        },
        "outputId": "fe657f42-8ffc-436b-cd7d-be826d00d97c"
      },
      "execution_count": null,
      "outputs": [
        {
          "output_type": "stream",
          "name": "stdout",
          "text": [
            "Mounted at /content/drive\n"
          ]
        }
      ]
    },
    {
      "cell_type": "markdown",
      "source": [
        "#**CLASSES 📝🐍**"
      ],
      "metadata": {
        "id": "AKs43-0N7k19"
      }
    },
    {
      "cell_type": "markdown",
      "source": [
        "##**CLASSE VERTICE ⚪**"
      ],
      "metadata": {
        "id": "KlDP-cvR5wwq"
      }
    },
    {
      "cell_type": "code",
      "execution_count": null,
      "metadata": {
        "id": "TAEqkmXGUloW"
      },
      "outputs": [],
      "source": [
        "# Classe Vertice ACHO QUE POSSO APAGAR ALGUNS ATRIBUTOS\n",
        "class Vertex:\n",
        "    ''' Estrutura de Vértice para um grafo: encapsula um elemento (vertex_id)\n",
        "        que é o identificador deste nó.\n",
        "    '''\n",
        "\n",
        "    def __init__(self, vertex_id):\n",
        "        '''O vértice será inserido no Grafo usando o método insert_vertex(x) que cria um Vertex'''\n",
        "        self._vertex_id = vertex_id   # Id do vértice (elemento a inserir no grafo)\n",
        "        self.status = None            # Marcação de visitado/não visitado (exercício TP3)\n",
        "        self._flag = None              #Adiciona uma flag ao vertice\n",
        "\n",
        "    def __hash__(self):\n",
        "        '''O valor do elemento é usado como hash para o vértice (o elemento deve ser hashable)'''\n",
        "        return hash(self._vertex_id)  # devolve o hash do elemento\n",
        "\n",
        "    def __str__(self):\n",
        "        '''Devolve a representação do objeto vértice em string.'''\n",
        "        return'v{0}'.format(self._vertex_id)\n",
        "\n",
        "    def __eq__(self, vertex):\n",
        "        return self._vertex_id == vertex._vertex_id # Deve-se garantir que: se hash(vertex)==hash(self), entao vertex==self\n",
        "\n",
        "    def __lt__(self, vertex):\n",
        "        return self._vertex_id < vertex._vertex_id\n",
        "\n",
        "    def __le__(self, vertex):\n",
        "        return self._vertex_id <= vertex._vertex_id\n",
        "\n",
        "    def __gt__(self, vertex):\n",
        "        return self._vertex_id > vertex._vertex_id\n",
        "\n",
        "    def __ge__(self, vertex):\n",
        "        return self._vertex_id >= vertex._vertex_id\n",
        "\n",
        "    def vertex_id(self):\n",
        "        ''' Devolve o elemento guardado neste vértice.'''\n",
        "        return self._vertex_id\n",
        "\n",
        "    def get_flag(self):\n",
        "      return self._flag"
      ]
    },
    {
      "cell_type": "markdown",
      "source": [
        "##**CLASSE ARESTA ───**"
      ],
      "metadata": {
        "id": "dKzYzyep6YlN"
      }
    },
    {
      "cell_type": "code",
      "execution_count": null,
      "metadata": {
        "id": "lyhKe5uLUori"
      },
      "outputs": [],
      "source": [
        "class Edge:\n",
        "    ''' Estrutura de Aresta para um Grafo: (origem, destino) e peso '''\n",
        "\n",
        "    def __init__(self, vertex_1, vertex_2, weight):\n",
        "        self._vertex_1 = vertex_1\n",
        "        self._vertex_2 = vertex_2\n",
        "        self._weight = weight\n",
        "\n",
        "    def __hash__(self):\n",
        "        # Função que mapeia a aresta a uma posição no dicionário (hash map)\n",
        "        return hash( (self._vertex_1, self._vertex_2) )\n",
        "\n",
        "    def __str__(self):\n",
        "        ''' Devolve a representação do objeto aresta em string: (origem, destino)w=peso '''\n",
        "        return'e({0},{1})w={2}'.format(self._vertex_1, self._vertex_2, self._weight)\n",
        "\n",
        "    def __eq__(self, other):\n",
        "        # define igualdade de duas arestas (deve ser consistente com a função hash)\n",
        "        return self._vertex_1 == other._vertex_1 and self._vertex_2 == other._vertex_2\n",
        "\n",
        "    def endpoints(self):\n",
        "        ''' Devolve a tupla (vertex_1, vertex_2) os vértices adjacentes vertex_1 e vertex_2.'''\n",
        "        return (self._vertex_1, self._vertex_2)\n",
        "\n",
        "    def cost(self):\n",
        "        ''' Devolve o peso associado a este arco.'''\n",
        "        return self._weight\n",
        "\n",
        "    def opposite(self, vertex):\n",
        "        ''' Indica o vértice oposto ao vertex nesta aresta\n",
        "            (apenas se vertex fizer parte da aresta).'''\n",
        "        if vertex == self._vertex_1:\n",
        "            return self._vertex_2\n",
        "        elif vertex == self._vertex_2:\n",
        "            return self._vertex_1\n",
        "        else:\n",
        "            return None"
      ]
    },
    {
      "cell_type": "markdown",
      "source": [
        "##**CLASSE GRAFO ⚪───⚪**"
      ],
      "metadata": {
        "id": "TNwD-nyOzRy7"
      }
    },
    {
      "cell_type": "code",
      "execution_count": null,
      "metadata": {
        "id": "u4HYuasZUqct"
      },
      "outputs": [],
      "source": [
        "class Graph:\n",
        "    '''\n",
        "    Representação de um grafo usando dicionários encadeados (nested dictionaries).\n",
        "\n",
        "    Atributos:\n",
        "    ----------\n",
        "    adjancencies: Dicionário externo que associa um vértice (Vertex) a um\n",
        "                  mapa de adjacências (dicionario interno)\n",
        "    vertices: Dicionário auxiliar que associa o id dos vértices do grafo\n",
        "              a um objeto Vertex (tabela de símbolos).\n",
        "    n: Número de vértices no Grafo\n",
        "    m: Número de arestas no Grafo\n",
        "\n",
        "    ----------\n",
        "'''\n",
        "    def __init__(self):\n",
        "        '''Construtor: Cria um grafo vazio (dicionário de _adjancencies).'''\n",
        "        self._adjancencies = {}  # dicionário que associa o par chave-valor: <Vertex v, Mapa de adjacências de v>\n",
        "        self._vertices = {}      # dicionário que associa o par: <id do vértice, objeto Vertex correspondente>\n",
        "        self._n = 0              # número de vértices do grafo\n",
        "        self._m = 0              # número de arestas do grafo\n",
        "\n",
        "\n",
        "\n",
        "\n",
        "    def __str__(self):\n",
        "        '''Devolve a representação do grafo em string (toString)'''\n",
        "        if self._n == 0:\n",
        "            ret = \"DAA-Graph: <empty>\\n\"\n",
        "        else:\n",
        "            ret = \"DAA-Graph:\\n\"\n",
        "            for vertex in self._adjancencies.keys():\n",
        "                #ret += \"vertex-\"\n",
        "                ret += str(vertex) + \": \"\n",
        "                for edge in self.incident_edges(vertex.vertex_id()):\n",
        "                    ret += str(edge) + \"; \"\n",
        "                ret += \"\\n\"\n",
        "        return ret\n",
        "\n",
        "\n",
        "\n",
        "\n",
        "    def is_directed(self):\n",
        "        '''A classe Graph representa um grafo não orientado.'''\n",
        "        return False\n",
        "\n",
        "\n",
        "\n",
        "\n",
        "    def order(self):\n",
        "        '''Ordem de um grafo: a quantidade de vértices no Grafo.'''\n",
        "        return self._n\n",
        "\n",
        "\n",
        "\n",
        "\n",
        "    def size(self):\n",
        "        '''Dimensão de um grafo: a quantidade total de arestas do Grafo.'''\n",
        "        return self._m\n",
        "\n",
        "\n",
        "\n",
        "\n",
        "    def has_vertex(self, vertex_id):\n",
        "        '''Verifica se o vértice de id vertex_id está no grafo.'''\n",
        "        return vertex_id in self._vertices\n",
        "\n",
        "\n",
        "\n",
        "\n",
        "    def has_edge(self, u_id, v_id):\n",
        "        '''Verifica se a aresta (u_id, v_id) existe no grafo.'''\n",
        "        if not self.has_vertex(u_id) or not self.has_vertex(v_id):\n",
        "            return False\n",
        "        else:\n",
        "            vertex_u = self._vertices[u_id]\n",
        "            vertex_v = self._vertices[v_id]\n",
        "            return vertex_v in self._adjancencies[vertex_u]\n",
        "\n",
        "\n",
        "\n",
        "\n",
        "    def insert_vertex(self, vertex_id, vertex_flag = -1):\n",
        "        '''Insere um novo vértice com o id vertex_id.'''\n",
        "        if not self.has_vertex(vertex_id):\n",
        "            vertex = Vertex(vertex_id)\n",
        "            vertex._flag = vertex_flag\n",
        "            self._vertices[vertex_id] = vertex  # insere o novo vértice no dicionario de vertices\n",
        "            self._adjancencies[vertex] = {}     # inicializa o mapa de adjacências deste vértice a vazio\n",
        "            self._n +=1                         # mais um vértice no grafo\n",
        "\n",
        "\n",
        "\n",
        "\n",
        "    def insert_edge(self, u_id, v_id, weight=0):\n",
        "        ''' Cria e insere uma nova aresta entre u_id e v_id com peso weight.\n",
        "            Se a aresta já existe no grafo, atualiza-se o seu peso.\n",
        "            Também insere os vértices u_id e v_id, caso não existam.'''\n",
        "        if not self.has_vertex(u_id):\n",
        "            self.insert_vertex(u_id) # insere novo vertex e atualiza n\n",
        "        if not self.has_vertex(v_id):\n",
        "            self.insert_vertex(v_id) # insere novo vertex e atualiza n\n",
        "        if not self.has_edge(u_id, v_id):\n",
        "            self._m +=1           # atualiza m apenas se a aresta ainda não existir no grafo\n",
        "        #else:\n",
        "            #print(f\"Existing edge {u_id} and {v_id}. Will only update weight\")\n",
        "        vertex_u = self._vertices[u_id]\n",
        "        vertex_v = self._vertices[v_id]\n",
        "        e = Edge(vertex_u, vertex_v, weight)\n",
        "        self._adjancencies[vertex_u][vertex_v] = e  # coloca v nas adjacências de u\n",
        "        self._adjancencies[vertex_v][vertex_u] = e  # e u nas adjacências de v (para facilitar a procura de todas as arestas incidentes num vértice)\n",
        "\n",
        "\n",
        "\n",
        "\n",
        "    def incident_edges(self, vertex_id):\n",
        "        '''Devolve um iterável (gerador) com todas as arestas de um vértice com id vertex_id.'''\n",
        "        vertex = self._vertices[vertex_id]\n",
        "        for edge in self._adjancencies[vertex].values(): # para todas as arestas incidentes em v:\n",
        "            yield edge\n",
        "\n",
        "\n",
        "\n",
        "\n",
        "    def degree(self, vertex_id):\n",
        "        '''Quantidade de arestas incidentes no vértice v.\n",
        "        '''\n",
        "        return len(list(self.incident_edges(vertex_id)))\n",
        "\n",
        "\n",
        "\n",
        "\n",
        "    def get_vertex(self, vertex_id):\n",
        "        ''' Devolve o objeto Vertex associado ao elemento vertex_id no grafo\n",
        "        '''\n",
        "        return None if not self.has_vertex(vertex_id) else self._vertices[vertex_id]\n",
        "\n",
        "\n",
        "\n",
        "\n",
        "    def get_edge(self, u_id, v_id):\n",
        "        ''' Devolve o objeto aresta (Edge) que liga u_id a v_id.\n",
        "            Devolve None se não forem adjacentes ou se (um d)os vértices não existirem.'''\n",
        "        #if u_id not in self._adjancencies or v_id not in self._adjancencies:\n",
        "        if not self.has_edge(u_id, v_id):\n",
        "            return None\n",
        "        else:\n",
        "            vertex_u = self._vertices[u_id]\n",
        "            vertex_v = self._vertices[v_id]\n",
        "            return self._adjancencies[vertex_u][vertex_v]\n",
        "\n",
        "\n",
        "\n",
        "\n",
        "    def vertices(self):\n",
        "        '''Devolve um iterável sobre todos os vértices do Grafo (tipo Vertex)'''\n",
        "        return self._vertices.values() #Value do tipo Vertex, Key do tipo int\n",
        "\n",
        "\n",
        "\n",
        "    def edges(self):\n",
        "        '''Devolve um iterável sobre todas as arestas do Grafo (sem arestas duplicadas).'''\n",
        "        edge_list = []\n",
        "        for edges_dict in self._adjancencies.values():\n",
        "            for edge in edges_dict.values():\n",
        "                if edge not in edge_list:\n",
        "                  edge_list.append(edge)\n",
        "        return edge_list\n",
        "\n",
        "\n",
        "\n",
        "\n",
        "    def remove_vertex(self, vertex_id):\n",
        "        '''Remove o vértice com id vertex_id. Se o vértice não existir, não faz nada.'''\n",
        "\n",
        "        if vertex_id in self._vertices.keys():\n",
        "            # Elimina o vertice do dicinario de vertices\n",
        "            for adj_vertex in self._adjancencies:\n",
        "                self.remove_edge(vertex_id, adj_vertex._vertex_id)\n",
        "\n",
        "                \"\"\"\n",
        "                if self.has_edge(vertex_id, adj_vertex._vertex_id):\n",
        "                    #Remove da lista de adjacencias dentro do dicionário interno a ligação ao vertice removido\n",
        "                    print(\"Encontrado vertice com lgação ao vertice removido\")\n",
        "                    del self._adjancencies[adj_vertex][self._vertices.get(vertex_id)]\n",
        "                    self._m -= 1\n",
        "                \"\"\"\n",
        "            #Remove o vertice do dicionario de adjacencias por completo\n",
        "            del self._adjancencies[self._vertices.get(vertex_id)]\n",
        "            #Remove o vertice do dicionario de vertices\n",
        "            del self._vertices[vertex_id]\n",
        "            self._n -= 1\n",
        "\n",
        "\n",
        "\n",
        "    def remove_edge(self, u_id, v_id):\n",
        "        '''Remove a aresta entre u_id e v_id. Se a aresta não existir, não faz nada.'''\n",
        "        if  self.has_edge(u_id, v_id):\n",
        "            vertex_u = self._vertices[u_id]\n",
        "            vertex_v = self._vertices[v_id]\n",
        "            del self._adjancencies[vertex_u][vertex_v]\n",
        "            if vertex_u != vertex_v:  # laços são removidos apenas uma vez\n",
        "                del self._adjancencies[vertex_v][vertex_u]\n",
        "            self._m -=1\n",
        "\n",
        "    def clean_vertex_status(self):\n",
        "      for vertex in self._vertices.values():\n",
        "        vertex.status = None\n",
        "\n",
        "    def has_neighbours(self, vertex):\n",
        "      '''Verifica se o vértice v possui vértices vizinhos.'''\n",
        "      return len(self._adjancencies[vertex].keys()) > 0\n",
        "\n",
        "    def get_neighbours(self, vertex):\n",
        "      return list(self._adjancencies[vertex].keys())\n",
        "\n",
        "\n",
        "    def get_vertices(self):\n",
        "      return self._vertices\n",
        "\n",
        "    def get_adjancencies(self):\n",
        "      return self._adjancencies\n"
      ]
    },
    {
      "cell_type": "markdown",
      "source": [
        "a)\n",
        "\n",
        "*   O que são os vértices e as arestas no seu modelo de grafo. Qual foi o critério para esta escolha? Por exemplo, a sua escolha facilita a implementação de alguma operação específica? Ou faz com que as operações fiquem mais eficientes (em relação ao tempo e ao espaço em memória)?\n",
        "\n",
        "*   A sua representação do problema resulta em que tipo de grafo (não orientado, orientado, pesado, com multiarestas, acíclico, cíclico, bipartido, etc)?\n",
        "\n",
        "* Que tipo de modificações teve de realizar na classe Graph fornecida (teve de inserir novos atributos/métodos e porquê?); ou como implementou a sua classe Graph?\n"
      ],
      "metadata": {
        "id": "Y4VBnfC-d-8J"
      }
    },
    {
      "cell_type": "markdown",
      "source": [
        "#**REPRESENTAÇÃO DE DADOS 💾**"
      ],
      "metadata": {
        "id": "kAsNCV8AqwFf"
      }
    },
    {
      "cell_type": "markdown",
      "source": [
        "##**1.a) Modelo de Grafo**"
      ],
      "metadata": {
        "id": "lMv2OqmGq7pC"
      }
    },
    {
      "cell_type": "markdown",
      "source": [
        "\n",
        "> Para explicar de que forma foi modelizada a representação do grafo, é necessário descrever de que forma os vértices e as arestas foram definidas, que tipo de grafo resulta desta definição, e que alterações foram feitas às classes disponibilizadas.\n",
        "\n",
        "> Após analisar os requisitos da API HollywoodOracle, surgiram rapidamente duas ideias  dissemelhantes de representação do grafo. Uma passava por representar os atores como vértices e os filmes como arestas, já a outra era definida de forma contrária. A primeira opção parecia a mais lógica de ambas, já que o principal objetivo seria verificar atores vizinhos para calcular o número de X, ou calcular o caminho entre dois atores. No entanto, dentro de qualquer uma das opções havia algumas questões relevantes.\n",
        "\n",
        "> A primeira passava pela representação das arestas. De que forma poderia uma aresta representar, em qualquer uma das abordagens, mais do que um filme ou mais do que um ator? Para isso seria necessária cada aresta (*Edge*) guardar uma lista de *Strings*, sendo necessário percorrer essa lista sempre que era preciso encontrar o que conectava dois vértices. Outra opção seria ligar várias arestas entre os mesmos dois vértices, uma solução pouco eficiente e rapidamente descartada. Sendo a quantidade de atores muito superior à de filmes, a ideia de utilizar filmes como vértices foi também descartada, já que essa opção iria gerar uma quantidade elevada de arestas, arestas essas que são computacionalmente caras, comparando com os vértices. Além disso, durante a leitura do ficheiro, seria mais difícil construir o grafo, já que seria necessário verificar o array de cada uma das arestas, para cada um dos atores, à procura de uma semelhança para ligar os dois filmes.\n",
        "\n",
        "> Apenas restando a ideia de atores como vértices, procurámos ver se seria de facto uma solução eficiente. Sabíamos que para a leitura do ficheiro seria superior, isto, uma vez que, cada linha do ficheiro iria representar por si só um grafo mais pequeno, em que a ligação seria bastante mais fácil já que não teríamos filmes repetidos, não sendo necessário procurar pelas arestas.\n",
        "Vimos, no entanto, que esta solução teria uma complexidade quadrática na criação do grafo, já que, por cada ator encontrado, seria necessário percorrer ${n - 1}$ atores para os conectar.\n",
        "\n",
        "> Em busca de uma solução melhor, decidimos implementar um grafo bipartido, em que ambos os conjuntos, filmes e atores, seriam representados por vértices, sendo a ligação feita apenas entre filmes e atores, e nunca entre vértices do mesmo conjunto. A escolha deste tipo de grafo acabou por feita porque, vértices são bastante mais rápidos de aceder, não sendo necessário depender da informação contida nas arestas, e apenas da sua ligação. A implementação seria, no nosso ponto de vista, bastante mais simples, sendo apenas necessário fazer algumas alterações nas classes. O grafo seria mais equilibrando, sendo, num nível computacional, igualmente fácil fazer operações tanto em filmes como em atores, criando uma estrutura mais flexível. Apenas com a desvantagem de ser necessário percorrer os vértices dos filmes para chegar aos atores vizinhos, um mal necessário, mas mesmo assim mais eficiente do que as opções apresentadas anteriormente. Esta implementação facilitaria também as função de *path_to_X()*, ou de procura de filmes, ou atores que estariam representados em arestas.\n",
        "\n",
        "> Com o modelo de grafo conceptualizado, restava apenas fazer as alterações necessárias às classes para facilitar a implementação.\n",
        "Na classe do vértice (*Vertex*) foi necessário, de forma a otimizar a identificação dos filmes e atores, adicionar um atributo *_flag*, juntamente com o seu getter, sendo \"1\" usado para representar um filme, e \"0\" usado para representar um ator, dando apenas uso ao atributo *status*, e eliminando os restantes para simplificar o código. Outra abordagem estudada para este problema foi criar duas listas para distinguir atores de filmes, acabámos por não o fazer, uma vez que pretendíamos utilizar compreensão de listas em vez de expressões geradores (achámos que qualquer opção seria semelhante em termos de performance). Na classe da aresta (*Edge*), não foi feita qualquer alteração, uma vez que a mesma seria apenas usada para procurar as ligações feitas com o conjunto oposto. Já na classe do grafo (*Graph*), foram feitas algumas adições importantes, tais como, a função *clean_vertex_status()*, usado para dar reset ao atributo *status* de todos os vértices do grafo. O *has_neighbours()*, que devolvia um boolean, verificando de um dado vértice tinha, ou não, vizinhos. *O get_neighbours()* que devolvia um iterável dos vizinhos de um dado vértice. E por fim, um *get_adjancencies()* e *get_vertices()* que devolviam ambos os dicionários do grafo. Foi também feita uma alteração no método *insert_vertex()* de forma a adicionar uma flag nesse instante.\n",
        "Com esta implementação das classes procurámos ao máximo não limitar a utilidade das mesmas, permitindo, ainda assim, uma boa otimização do principal objetivo. Criando um equilíbrio entre flexibilidade e performance.\n",
        "\n",
        "> Uma importante alteração que é necessário ter em conta é a alteração feita na base de dados do ficheiro daa_large_dataset.txt (large_dataset_utf.txt). No ficheiro referido havia uma repetição de dois títulos que representavam filmes diferentes. De forma a desenvolver um projeto conciso e realista, a primeira instância desse filme foi alterada para \"Inside Out (1997)\", de forma a que não haja repetições de títulos. Desta forma o grafo gerado terá mais um vértice a representar esse mesmo filme, e a contagem total dos mesmos será um valor superior ao que é referido no enunciado (285460 vs 285461)."
      ],
      "metadata": {
        "id": "kCnRPuPshufM"
      }
    },
    {
      "cell_type": "markdown",
      "source": [
        "##**1.b) Construção do Grafo através do .txt**"
      ],
      "metadata": {
        "id": "jHPDnot4q9lz"
      }
    },
    {
      "cell_type": "markdown",
      "source": [
        "> A implementação desta função auxiliar visa ler o ficheiro .txt com o formato indicando, criando desta forma um grafo bipartido com a estrutura indicada anteriormente. A função, após a sua execução, retorna um objeto do tipo *Graph*."
      ],
      "metadata": {
        "id": "lcWKpGcEz6UR"
      }
    },
    {
      "cell_type": "code",
      "source": [
        "#Given a txt file, this funcion creates a Bipartite Graph, on one side the films connected to the actors on the other\n",
        "def build_bipartitegraph_from_txt(file_name):\n",
        "  file_graph = Graph()\n",
        "  i = 0\n",
        "  with open(f'/content/drive/My Drive/{file_name}.txt', 'r', encoding='utf-8') as fileContent:\n",
        "    for line in fileContent:\n",
        "      line_list = line.strip().split(\"/\")\n",
        "      for l in range(len(line_list)):\n",
        "        if l == 0:\n",
        "          file_graph.insert_vertex(line_list[0], 1)\n",
        "        else:\n",
        "          file_graph.insert_vertex(line_list[l], 0)\n",
        "          file_graph.insert_edge(line_list[0], line_list[l])\n",
        "\n",
        "  return file_graph\n"
      ],
      "metadata": {
        "id": "k-g76nv8rDGB"
      },
      "execution_count": null,
      "outputs": []
    },
    {
      "cell_type": "markdown",
      "source": [
        "# **API HollywoodOracle🔮**"
      ],
      "metadata": {
        "id": "29m6xLZWlNkm"
      }
    },
    {
      "cell_type": "markdown",
      "source": [
        "##**2.a) Estrutura de Dados**"
      ],
      "metadata": {
        "id": "YDBndOrY1NTT"
      }
    },
    {
      "cell_type": "markdown",
      "source": [
        "> A estrutura de dados a ser utilizada para a implementação da API é, como foi especificado anteriormente, baseada num grafo Bipartido. Esse grafo é construído com base num ficheiro .txt especificado na inicialização da classe, através da chamada da função definida no ponto 1.b).\n",
        "\n",
        "> Na instanciação de um objeto HollywoodOracle, são criados os seguintes atributos:\n",
        "\n",
        "> *  \"*_every_number_of_X*\": Um dicionário, inicialmente vazio (antes da chamada de \"*set_center_of_universe()*\"), que armazena, para cada ator, a sua distância para o centro do universo atual. Posteriormente utilizado para calcular os caminhos mais curtos entre um ator e o respetivo centro do universo.\n",
        "\n",
        "> *  \"*_center_of_universe*\": Uma variável que armazena o centro do universo atual, em formato de String, que corresponde ao mesmo formato armazenado no atributo *_vertex_id* de cada vértice (o nome do ator). Isto é, os nomes dos atores são armazenados no respetivo atributo do vértice, e o vértice que contiver o mesmo *_vertex_id*, será o centro do universo.\n",
        "\n",
        "> *  \"*_bipartitegraph*\": Representa o grafo construído através do respetivo ficheiro .txt. É um objeto do tipo *Graph* e representa todas as relações do determinado conjunto fornecido.\n",
        "\n",
        "> Em relação à análise do espaço de memória utilizado podemos fazer as seguintes deduções com base nos atributos da API:\n",
        "\n",
        ">> É composta por uma variável (*_center_of_universe*) que armazena uma String. O valor esperado para um objeto do desse tipo corresponde 49 bytes + 1 byte por cada letra. Como a variável representa apenas um String, a sua complexidade espacial será $O(1)$.\n",
        "\n",
        ">> Apesar de ser mais complexo calcular um valor aproximado da memória ocupada pelo dicionário de *_every_number_of_X*, podemos induzir que a sua complexidade temporal está linearmente relacionada com o número de entradas, sendo a sua complexidade espacial de $O(n),$ diretamente proporcional ao número de entradas.\n",
        "\n",
        ">>Já em relação ao grafo, podemos reduzir o espaço ocupado pelo mesmo aos seus 4 atributos:\n",
        "\n",
        "\n",
        ">>  *   Contador do número de vértices (Insignificante, $O(1)$)\n",
        ">>  *   Contador do número de arestas (Insignificante, $O(1)$)\n",
        ">>  *   Dicionário com os vértices e os seus respetivos *_vertex_id's*\n",
        ">>  *   Dicionário com as ligações entre os vértices\n",
        "\n",
        ">> Relativamente ao dicionário de vértices, sabemos que a complexidade espacial do mesmo será $O(n)$, é importante notar que, como são utilizadas hash tables na implementação interna de dicionários, a memória é alocada em blocos. O mais provável de se observar na chamada do sys.getsizeof() será uma alocação igual ou semelhante nos dicionários dos vértices do grafo, ou dos atores da API. O mesmo acontece uma vez que a função não contabiliza o espaço ocupado pela informação dentro do dicionário, mas apenas pela sua estrutura.\n",
        "\n",
        ">> Finalmente, podemos fazer também uma análise espacial do dicionário das ligações. Sabemos que o mesmo representa cada vértice, associado com um dicionário interno que contêm os seus vértices vizinhos e as arestas que os conectam. Nesta situação existem duas opções, caso o grafo seja um grafo completo, a complexidade do mesmo será $O(n^2)$, uma vez que cada vértice estará conectado a todos os outros. Outra opção, e mais próxima do cenário implementado, será um grafo esparso. Uma vez que teremos um grafo bipartido, e incompleto em termos de ligações dos conjuntos diferentes, a análise espacial do mesmo será mais próxima de $O(n + a)$, sendo $n$ a quantidade de vértices e $a$ o número de arestas."
      ],
      "metadata": {
        "id": "1Xw3taPN-vJ7"
      }
    },
    {
      "cell_type": "markdown",
      "source": [
        "##**2.b)**"
      ],
      "metadata": {
        "id": "xtlDLaBM1PpK"
      }
    },
    {
      "cell_type": "code",
      "source": [
        "class HollywoodOracle:\n",
        "  def __init__(self, filename):\n",
        "    self._every_number_of_X = {} #Dict that stores the number of x, of each actor to the center of the universe\n",
        "\n",
        "    self._center_of_universe = None #Stores the current center of the universe\n",
        "\n",
        "    self._bipartitegraph = build_bipartitegraph_from_txt(filename) #Create the graph based on a txt file\n",
        "\n",
        "    self.set_center_of_universe(\"Bacon, Kevin\") #Sets the default center of the universe to Kevin Bacon and calculates _every_number_of_X\n",
        "\n",
        "\n",
        "  def all_movies(self): #Returns every movie on the graph, used a flag to identify\n",
        "    movies_list = []\n",
        "    for vertex in self._bipartitegraph.get_vertices().values():\n",
        "      if vertex.get_flag() == 1: #Flag 0 for actor and 1 for movie\n",
        "        movies_list.append(vertex.vertex_id())\n",
        "\n",
        "    return movies_list\n",
        "\n",
        "\n",
        "  def all_actors(self): #Returns every actor on the graph, using a similar approach to the all_movies\n",
        "    actors_list = []\n",
        "    for vertex in self._bipartitegraph.get_vertices().values():\n",
        "      if vertex.get_flag() == 0: #Flag 0 for actor and 1 for movie\n",
        "        actors_list.append(vertex.vertex_id())\n",
        "\n",
        "    return actors_list\n",
        "\n",
        "\n",
        "  def movies_from(self, actor): #Returns a list of movies from an actor, looking for the neighbours of that actor's vertex\n",
        "    movies_list = []\n",
        "    actor_vertex = self._bipartitegraph.get_vertex(actor)\n",
        "    if actor_vertex is not None:\n",
        "       movies_list = [movie.vertex_id() for movie in self._bipartitegraph.get_neighbours(actor_vertex)]\n",
        "\n",
        "    return movies_list\n",
        "\n",
        "\n",
        "\n",
        "  def cast_of(self, movie): #Return the cast of a given film by looking for the neighbours of that film's vertex\n",
        "    actors_list = []\n",
        "    movie_vertex = self._bipartitegraph.get_vertex(movie)\n",
        "    if movie_vertex is not None:\n",
        "       actors_list = [actor.vertex_id() for actor in self._bipartitegraph.get_neighbours(movie_vertex)]\n",
        "    return actors_list\n",
        "\n",
        "  def neighbour_actors(self, actor): #Given an actor it return the neighbour actors\n",
        "    neighbours = []\n",
        "    for m in self.movies_from(actor):\n",
        "      for a in self.cast_of(m):\n",
        "        if a != actor:\n",
        "          neighbours.append((a,m))\n",
        "\n",
        "    return neighbours\n",
        "\n",
        "\n",
        "  def set_center_of_universe(self, actor):\n",
        "    initial_actor_vertex = self._bipartitegraph.get_vertex(actor)\n",
        "    if initial_actor_vertex is None:\n",
        "        raise Exception(\"Sorry, that actor doesn't exist in the database\")\n",
        "\n",
        "    #Resets the vertices status to look for the number of X again, only if its not the first time\n",
        "    if self._center_of_universe != None:\n",
        "      self._bipartitegraph.clean_vertex_status()\n",
        "\n",
        "    self._center_of_universe = actor\n",
        "\n",
        "    self._every_number_of_X.clear()\n",
        "    self._every_number_of_X[self._bipartitegraph.get_vertex(self._center_of_universe)] = 0  # self distance is zero\n",
        "\n",
        "\n",
        "    actors_to_explore = [initial_actor_vertex]\n",
        "    i = 1\n",
        "    while actors_to_explore:\n",
        "        next_actors_to_explore = []\n",
        "        for actor_vertex in actors_to_explore:\n",
        "            if actor_vertex.status is None:  # Means it has not been checked\n",
        "                actor_vertex.status = 1\n",
        "                for film_vertex in self._bipartitegraph.get_neighbours(actor_vertex):\n",
        "                    for actor_from_film in self._bipartitegraph.get_neighbours(\n",
        "                            film_vertex):  # Iterate over actors from the film\n",
        "                        if actor_from_film.status is None and actor_from_film not in self._every_number_of_X: #\n",
        "                            next_actors_to_explore.append(actor_from_film)\n",
        "                            self._every_number_of_X[actor_from_film] = i\n",
        "        actors_to_explore = next_actors_to_explore\n",
        "        i += 1\n",
        "\n",
        "\n",
        "  def number_of_X(self, actor):\n",
        "    return self._every_number_of_X[self._bipartitegraph.get_vertex(actor)]\n",
        "\n",
        "  def min_X_neighbours(self, actor):\n",
        "    neighbours = self.neighbour_actors(actor)\n",
        "    if len(neighbours) > 0:\n",
        "      min_X = min([self.number_of_X(actor) for actor,movie in neighbours])\n",
        "      return [(actor,movie) for actor,movie in neighbours if self.number_of_X(actor) == min_X]\n",
        "\n",
        "  def path_to_X(self, actor, x=None, path=None, all_paths=None):\n",
        "    if path is None: #This disallows for repeated results and the function is called more then once\n",
        "        path = []\n",
        "    if all_paths is None:\n",
        "        all_paths = []\n",
        "    path = path + [(actor, None)]  # Add the initial actor to the path\n",
        "    if actor == self._center_of_universe:\n",
        "        all_paths.append(path)\n",
        "        return all_paths\n",
        "\n",
        "    next_actors = self.min_X_neighbours(actor)\n",
        "    if next_actors is not None:  # Add verification here\n",
        "        for next_actor, movie in next_actors:\n",
        "            new_path = path.copy() + [(next_actor, movie)]  # Create a copy of path\n",
        "            all_paths = self.path_to_X(next_actor, x, new_path, all_paths)\n",
        "\n",
        "            if x is not None and len(all_paths) == x: #Stops the recursion on a certain limit given by x\n",
        "                break\n",
        "\n",
        "    return all_paths[:x] if x is not None else all_paths\n",
        "\n",
        "  def print_paths(self, paths):\n",
        "    if not paths:\n",
        "        print(\"No paths found.\")\n",
        "        return\n",
        "\n",
        "    print(\"Paths:\")\n",
        "    for i, path in enumerate(paths, start=1):\n",
        "        print(f\"Path {i}: \", end=\"\")\n",
        "        for j, (actor, movie) in enumerate(path):\n",
        "            if j == 0:\n",
        "                print(f\"Actor: {actor}\", end=\"\")\n",
        "            elif movie is not None:\n",
        "                print(f\" -> In Movie: {movie} with Actor: {actor}\", end=\"\")\n",
        "            else: pass\n",
        "                #print(f\" -> In Movie: {movie} with\", end=\"\")\n",
        "        print(\"\\n\")\n",
        "\n",
        "\n",
        "  def max_number_of_X(self):\n",
        "    return max(self._every_number_of_X.values())\n",
        "\n",
        "  def count_number_of_X(self, n):\n",
        "    count_actors = 0\n",
        "    for actor, number in self._every_number_of_X.items():\n",
        "      if number == n:\n",
        "        count_actors += 1\n",
        "    return count_actors\n",
        "\n",
        "\n",
        "  def average_number_of_X(self):\n",
        "    return sum(self._every_number_of_X.values())/len(self._every_number_of_X)\n",
        "\n",
        "  def get_center_of_universe(self):\n",
        "    return self._center_of_universe\n"
      ],
      "metadata": {
        "id": "pvtt2NW0lg3w"
      },
      "execution_count": null,
      "outputs": []
    },
    {
      "cell_type": "markdown",
      "source": [
        "###**Apresentação dos Testes na Base de Dados \"daa_small_dataset\" (daa_small_utf8.txt)**"
      ],
      "metadata": {
        "id": "uSi-WoWxY49F"
      }
    },
    {
      "cell_type": "markdown",
      "source": [
        "Foram utilizados os atores \"Bacon, Kevin\" e \"Depp, Johnny\", e também o filme \"Zoolander (2001)\" como referência para as funções"
      ],
      "metadata": {
        "id": "ZmxwezRBZ4NC"
      }
    },
    {
      "cell_type": "code",
      "source": [
        "game = HollywoodOracle(\"daa_small_dataset\") #Cria a instância com o dataset indicado"
      ],
      "metadata": {
        "id": "xC7h_vWH4St9"
      },
      "execution_count": null,
      "outputs": []
    },
    {
      "cell_type": "code",
      "source": [
        "print(len(game.all_movies())) #Print da quantidade de filmes"
      ],
      "metadata": {
        "colab": {
          "base_uri": "https://localhost:8080/"
        },
        "id": "JUo6lT77UlY3",
        "outputId": "d193cd80-593e-4722-b359-3deab0f8dd49"
      },
      "execution_count": null,
      "outputs": [
        {
          "output_type": "stream",
          "name": "stdout",
          "text": [
            "4527\n"
          ]
        }
      ]
    },
    {
      "cell_type": "code",
      "source": [
        "print(len(game.all_actors()))#Print da quantidade de atores"
      ],
      "metadata": {
        "colab": {
          "base_uri": "https://localhost:8080/"
        },
        "id": "OXjXnvBqZgIw",
        "outputId": "c794806f-eac6-48be-baea-4537ccf5487b"
      },
      "execution_count": null,
      "outputs": [
        {
          "output_type": "stream",
          "name": "stdout",
          "text": [
            "122406\n"
          ]
        }
      ]
    },
    {
      "cell_type": "code",
      "source": [
        "print(game.movies_from(\"Bacon, Kevin\")) #Print dos filmes de \"Bacon, Kevin\""
      ],
      "metadata": {
        "colab": {
          "base_uri": "https://localhost:8080/"
        },
        "id": "QmnIzXdAZn_7",
        "outputId": "e8f13aaf-665f-46c6-9e38-0e4b931d90eb"
      },
      "execution_count": null,
      "outputs": [
        {
          "output_type": "stream",
          "name": "stdout",
          "text": [
            "['Animal House (1978)', 'Apollo 13 (1995)', 'Beauty Shop (2005)', 'Diner (1982)', 'Few Good Men, A (1992)', 'Flatliners (1990)', 'Footloose (1984)', 'Friday the 13th (1980)', 'He Said, She Said (1991)', 'Hollow Man (2000)', 'In the Cut (2003)', 'JFK (1991)', 'Murder in the First (1995)', 'My Dog Skip (2000)', 'Mystic River (2003)', 'Novocaine (2001)', 'Picture Perfect (1997)', 'Planes, Trains & Automobiles (1987)', 'River Wild, The (1994)', \"She's Having a Baby (1988)\", 'Sleepers (1996)', 'Stir of Echoes (1999)', 'Trapped (2002)', 'Tremors (1990)', 'Where the Truth Lies (2005)', 'Wild Things (1998)', 'Woodsman, The (2004)']\n"
          ]
        }
      ]
    },
    {
      "cell_type": "code",
      "source": [
        "print(game.cast_of(\"Zoolander (2001)\")) #Print dos atores de \"Zoolander (2001)\""
      ],
      "metadata": {
        "colab": {
          "base_uri": "https://localhost:8080/"
        },
        "id": "ZF30AnlKafrj",
        "outputId": "cba429a7-17dc-49d8-a678-ab53ad5c0754"
      },
      "execution_count": null,
      "outputs": [
        {
          "output_type": "stream",
          "name": "stdout",
          "text": [
            "['Vaughn, Vince', 'Thurman, Dechen', 'Odadjian, Shavo', 'Crown, Taj', 'Lagerfeld, Karl', 'Lieberz, Herb', 'Chatwal, Vikram', 'Kum, Ming Ho', 'Slavin, Randall (I)', 'Bass, Lance', 'Wilson, Andrew (III)', 'Winzenried, Eric', 'Kmetko, Steve', 'K-Roc', 'Elsokari, Tarek', 'Rich, Richie (I)', 'McAlpin, Michael', 'Fabio (I)', 'Dick, Andy (I)', 'Godfrey', 'Manning, Alexandre', 'Vargas, John (I)', 'Hart, Taylor Gerard', 'Word, Scotty F.', 'Hilfiger, Tommy', 'Levin, Matt (I)', 'Highsmith, Asio', 'McNish, Colin', 'Kravitz, Lenny', 'Richardson, Shabazz', 'Stiller, Jerry', 'Johnson, Eliot', 'Kanal, Tony', 'Aucoin, Kevyn', 'Shandling, Garry', 'Chu, Stan', 'Rossdale, Gavin', 'Friedlander, Judah', 'Beckford, Tyson', 'Webb, Mason', 'Commeret, Luc', 'Creek, Luther', 'Duchovny, David', '11:11, Angel', 'Pipino, Ric', 'Stanley, Richard (IX)', 'Max, Kenny', 'Zane, Billy', 'Winston, Mitch', 'Maximus, Flattus', 'Gladys, Richard', 'Ford, Tom (VIII)', 'D, Stevie (I)', 'Quine, Rohan', 'Bor, Lam', 'Van Atta, Jeff', 'Trump, Donald', 'Theroux, Justin', 'Dorff, Stephen', 'Fekkai, Frederic', 'Brame, Charles L.', 'Gooding Jr., Cuba', 'Copeland, Darren', 'Stahl, Jerry', 'Asai, Woodrow W.', 'Voight, Jon', 'Ronson, DJ Mark', 'King (II)', 'Ferrell, Will', 'Lucas, Gregory J.', 'Mighty, Beefcake The', 'Jaws Of Death, Balsac The', 'Haas, Lukas', 'Kachscovsky, Boris', 'Graham, Nathan Lee', 'Stiller, Ben', 'Bowie, David (I)', 'Marsden, James (I)', 'Luber, Jonah', 'Durst, Fred', 'J, Pauly', 'Skarsgård, Alexander', 'Urungus, Oderus', 'Wilson, Owen (I)', 'Slater, Christian', 'Hules, Endre', 'Oswalt, Patton', 'Segura, Rudy', 'Urb, Johann', 'Pressman, David (I)', 'Schiffer, Claudia', 'Phillips, Lisa Ann', 'McComb, Jennifer', 'Coolidge, Jennifer', 'Rayder, Frankie', 'Taylor, Christine (I)', \"Jones, Kimberly 'Lil' Kim'\", 'Brown, Autumn Leigh', 'Hilton, Paris', 'Portman, Natalie', 'Klum, Heidi', 'Pantaeva, Irina', 'Svetlana (III)', 'Stiller, Amy', 'Webb, Veronica', 'Nikolas, Alexa', 'Kogan, Theo', 'Beckham, Victoria', 'Dunn, Nora', 'Dorogi, Jennifer', 'Stefani, Gwen', 'Meara, Anne', 'Jovovich, Milla', 'Hymen, Slymenstra', 'Cosenza, Cheryl', 'Kashana', 'Kass, Carmen', 'Bunton, Emma', 'Zoya', 'Bermender, Shawna', 'Trump, Melania', 'Ryder, Winona', 'Salvail, Ève', 'Bernhard, Sandra']\n"
          ]
        }
      ]
    },
    {
      "cell_type": "code",
      "source": [
        "game.set_center_of_universe(\"Depp, Johnny\") #Teste do set_center_of_universe\n",
        "print(game._center_of_universe) #Print no novo centro do universo\n",
        "\n",
        "game.set_center_of_universe(\"Bacon, Kevin\") #Mudança para o ator de referência novamente"
      ],
      "metadata": {
        "colab": {
          "base_uri": "https://localhost:8080/"
        },
        "id": "ESJ3lRuqawQV",
        "outputId": "78d6727f-412d-47c9-fad8-f8f4909d7f87"
      },
      "execution_count": null,
      "outputs": [
        {
          "output_type": "stream",
          "name": "stdout",
          "text": [
            "Depp, Johnny\n"
          ]
        }
      ]
    },
    {
      "cell_type": "code",
      "source": [
        "self_distance = game.number_of_X(\"Bacon, Kevin\")\n",
        "other_distance = game.number_of_X(\"Depp, Johnny\")\n",
        "print(f\"A distância do centro do universo a si próprio: {self_distance}\") #Distância ao próprio ator: 0\n",
        "print(f\"A distância do centro do universo ao 'Depp, Johnny': {other_distance}\") #Distância a um outro ator: X"
      ],
      "metadata": {
        "colab": {
          "base_uri": "https://localhost:8080/"
        },
        "id": "6ybJBpTaboUU",
        "outputId": "cb26c215-90a7-4e76-a806-7af5d4ecbb76"
      },
      "execution_count": null,
      "outputs": [
        {
          "output_type": "stream",
          "name": "stdout",
          "text": [
            "A distância do centro do universo a si próprio: 0\n",
            "A distância do centro do universo ao 'Depp, Johnny': 2\n"
          ]
        }
      ]
    },
    {
      "cell_type": "code",
      "source": [
        "game.print_paths(game.path_to_X(\"Depp, Johnny\")) #Print de TODOS os caminhos do mesmo tamanho até ao centro do universo"
      ],
      "metadata": {
        "colab": {
          "base_uri": "https://localhost:8080/"
        },
        "id": "erTTn_Wec7wi",
        "outputId": "d229fcf8-01c1-4cfd-87b8-4099b0f9946b"
      },
      "execution_count": null,
      "outputs": [
        {
          "output_type": "stream",
          "name": "stdout",
          "text": [
            "Paths:\n",
            "Path 1: Actor: Depp, Johnny -> In Movie: Arizona Dream (1993) with Actor: Taylor, Lili (I) -> In Movie: She's Having a Baby (1988) with Actor: Bacon, Kevin\n",
            "\n",
            "Path 2: Actor: Depp, Johnny -> In Movie: Arizona Dream (1993) with Actor: Noonan, Polly -> In Movie: Novocaine (2001) with Actor: Bacon, Kevin\n",
            "\n",
            "Path 3: Actor: Depp, Johnny -> In Movie: Astronaut's Wife, The (1999) with Actor: Grubbs, Gary -> In Movie: JFK (1991) with Actor: Bacon, Kevin\n",
            "\n",
            "Path 4: Actor: Depp, Johnny -> In Movie: Astronaut's Wife, The (1999) with Actor: Bachmann, Conrad -> In Movie: Tremors (1990) with Actor: Bacon, Kevin\n",
            "\n",
            "Path 5: Actor: Depp, Johnny -> In Movie: Astronaut's Wife, The (1999) with Actor: Theron, Charlize -> In Movie: Trapped (2002) with Actor: Bacon, Kevin\n",
            "\n",
            "Path 6: Actor: Depp, Johnny -> In Movie: Before Night Falls (2000) with Actor: Castro, Fidel (I) -> In Movie: JFK (1991) with Actor: Bacon, Kevin\n",
            "\n",
            "Path 7: Actor: Depp, Johnny -> In Movie: Before Night Falls (2000) with Actor: Penn, Sean (I) -> In Movie: Mystic River (2003) with Actor: Bacon, Kevin\n",
            "\n",
            "Path 8: Actor: Depp, Johnny -> In Movie: Benny & Joon (1993) with Actor: Macy, William H. -> In Movie: Murder in the First (1995) with Actor: Bacon, Kevin\n",
            "\n",
            "Path 9: Actor: Depp, Johnny -> In Movie: Benny & Joon (1993) with Actor: Platt, Oliver -> In Movie: Flatliners (1990) with Actor: Bacon, Kevin\n",
            "\n",
            "Path 10: Actor: Depp, Johnny -> In Movie: Blow (2001) with Actor: Chapman, Kevin (I) -> In Movie: Mystic River (2003) with Actor: Bacon, Kevin\n",
            "\n",
            "Path 11: Actor: Depp, Johnny -> In Movie: Charlie and the Chocolate Factory (2005) with Actor: Bonham Carter, Helena -> In Movie: Novocaine (2001) with Actor: Bacon, Kevin\n",
            "\n",
            "Path 12: Actor: Depp, Johnny -> In Movie: Corpse Bride (2005) with Actor: Bonham Carter, Helena -> In Movie: Novocaine (2001) with Actor: Bacon, Kevin\n",
            "\n",
            "Path 13: Actor: Depp, Johnny -> In Movie: Cry-Baby (1990) with Actor: Holden, Larry (I) -> In Movie: He Said, She Said (1991) with Actor: Bacon, Kevin\n",
            "\n",
            "Path 14: Actor: Depp, Johnny -> In Movie: Cry-Baby (1990) with Actor: Wendl, Alan J. -> In Movie: He Said, She Said (1991) with Actor: Bacon, Kevin\n",
            "\n",
            "Path 15: Actor: Depp, Johnny -> In Movie: Dead Man (1995) with Actor: Byrd, Eugene -> In Movie: Sleepers (1996) with Actor: Bacon, Kevin\n",
            "\n",
            "Path 16: Actor: Depp, Johnny -> In Movie: Donnie Brasco (1997) with Actor: Kirby, Bruno -> In Movie: Sleepers (1996) with Actor: Bacon, Kevin\n",
            "\n",
            "Path 17: Actor: Depp, Johnny -> In Movie: Donnie Brasco (1997) with Actor: Musacchia, Rocco -> In Movie: Sleepers (1996) with Actor: Bacon, Kevin\n",
            "\n",
            "Path 18: Actor: Depp, Johnny -> In Movie: Donnie Brasco (1997) with Actor: Becker, Gerry -> In Movie: Sleepers (1996) with Actor: Bacon, Kevin\n",
            "\n",
            "Path 19: Actor: Depp, Johnny -> In Movie: Donnie Brasco (1997) with Actor: Becker, Gerry -> In Movie: Trapped (2002) with Actor: Bacon, Kevin\n",
            "\n",
            "Path 20: Actor: Depp, Johnny -> In Movie: Donnie Brasco (1997) with Actor: Di Benedetto, John -> In Movie: Sleepers (1996) with Actor: Bacon, Kevin\n",
            "\n",
            "Path 21: Actor: Depp, Johnny -> In Movie: Donnie Brasco (1997) with Actor: Romano, Larry -> In Movie: Sleepers (1996) with Actor: Bacon, Kevin\n",
            "\n",
            "Path 22: Actor: Depp, Johnny -> In Movie: Ed Wood (1994) with Actor: Holihan, Ryan -> In Movie: Apollo 13 (1995) with Actor: Bacon, Kevin\n",
            "\n",
            "Path 23: Actor: Depp, Johnny -> In Movie: Ed Wood (1994) with Actor: Howard, Rance -> In Movie: Apollo 13 (1995) with Actor: Bacon, Kevin\n",
            "\n",
            "Path 24: Actor: Depp, Johnny -> In Movie: Ed Wood (1994) with Actor: Murray, Bill (I) -> In Movie: She's Having a Baby (1988) with Actor: Bacon, Kevin\n",
            "\n",
            "Path 25: Actor: Depp, Johnny -> In Movie: Ed Wood (1994) with Actor: Murray, Bill (I) -> In Movie: Wild Things (1998) with Actor: Bacon, Kevin\n",
            "\n",
            "Path 26: Actor: Depp, Johnny -> In Movie: Ed Wood (1994) with Actor: D'Onofrio, Vincent (I) -> In Movie: JFK (1991) with Actor: Bacon, Kevin\n",
            "\n",
            "Path 27: Actor: Depp, Johnny -> In Movie: Ed Wood (1994) with Actor: Parker, Sarah Jessica -> In Movie: Footloose (1984) with Actor: Bacon, Kevin\n",
            "\n",
            "Path 28: Actor: Depp, Johnny -> In Movie: Edward Scissorhands (1990) with Actor: Macaulay, Marc -> In Movie: Wild Things (1998) with Actor: Bacon, Kevin\n",
            "\n",
            "Path 29: Actor: Depp, Johnny -> In Movie: Edward Scissorhands (1990) with Actor: Wiest, Dianne -> In Movie: Footloose (1984) with Actor: Bacon, Kevin\n",
            "\n",
            "Path 30: Actor: Depp, Johnny -> In Movie: Fear and Loathing in Las Vegas (1998) with Actor: Evans, Troy (I) -> In Movie: Planes, Trains & Automobiles (1987) with Actor: Bacon, Kevin\n",
            "\n",
            "Path 31: Actor: Depp, Johnny -> In Movie: Fear and Loathing in Las Vegas (1998) with Actor: Barkin, Ellen -> In Movie: Diner (1982) with Actor: Bacon, Kevin\n",
            "\n",
            "Path 32: Actor: Depp, Johnny -> In Movie: Finding Neverland (2004) with Actor: Hoffman, Dustin -> In Movie: Sleepers (1996) with Actor: Bacon, Kevin\n",
            "\n",
            "Path 33: Actor: Depp, Johnny -> In Movie: Nick of Time (1995) with Actor: García Lorca, Isabel -> In Movie: She's Having a Baby (1988) with Actor: Bacon, Kevin\n",
            "\n",
            "Path 34: Actor: Depp, Johnny -> In Movie: Nightmare on Elm Street, A (1984) with Actor: Andrews, David (I) -> In Movie: Apollo 13 (1995) with Actor: Bacon, Kevin\n",
            "\n",
            "Path 35: Actor: Depp, Johnny -> In Movie: Once Upon a Time in Mexico (2003) with Actor: Rourke, Mickey -> In Movie: Diner (1982) with Actor: Bacon, Kevin\n",
            "\n",
            "Path 36: Actor: Depp, Johnny -> In Movie: Platoon (1986) with Actor: Dye, Dale -> In Movie: JFK (1991) with Actor: Bacon, Kevin\n",
            "\n",
            "Path 37: Actor: Depp, Johnny -> In Movie: Platoon (1986) with Actor: David, Keith (I) -> In Movie: Novocaine (2001) with Actor: Bacon, Kevin\n",
            "\n",
            "Path 38: Actor: Depp, Johnny -> In Movie: Platoon (1986) with Actor: Orwig, Bob -> In Movie: JFK (1991) with Actor: Bacon, Kevin\n",
            "\n",
            "Path 39: Actor: Depp, Johnny -> In Movie: What's Eating Gilbert Grape (1993) with Actor: Reilly, John C. (I) -> In Movie: River Wild, The (1994) with Actor: Bacon, Kevin\n",
            "\n",
            "Path 40: Actor: Depp, Johnny -> In Movie: What's Eating Gilbert Grape (1993) with Actor: Schellhardt, Mary Kate -> In Movie: Apollo 13 (1995) with Actor: Bacon, Kevin\n",
            "\n"
          ]
        }
      ]
    },
    {
      "cell_type": "code",
      "source": [
        "max_number_of_paths = 5\n",
        "paths = game.path_to_X(\"Depp, Johnny\", max_number_of_paths)\n",
        "game.print_paths(paths) #Print de um número especifico de caminhos, neste caso 5 mas poderia ser qqr valor"
      ],
      "metadata": {
        "colab": {
          "base_uri": "https://localhost:8080/"
        },
        "id": "fy4IK9oJgu8f",
        "outputId": "46912004-35b9-4e01-8072-fe379928cce1"
      },
      "execution_count": null,
      "outputs": [
        {
          "output_type": "stream",
          "name": "stdout",
          "text": [
            "Paths:\n",
            "Path 1: Actor: Depp, Johnny -> In Movie: Arizona Dream (1993) with Actor: Taylor, Lili (I) -> In Movie: She's Having a Baby (1988) with Actor: Bacon, Kevin\n",
            "\n",
            "Path 2: Actor: Depp, Johnny -> In Movie: Arizona Dream (1993) with Actor: Noonan, Polly -> In Movie: Novocaine (2001) with Actor: Bacon, Kevin\n",
            "\n",
            "Path 3: Actor: Depp, Johnny -> In Movie: Astronaut's Wife, The (1999) with Actor: Grubbs, Gary -> In Movie: JFK (1991) with Actor: Bacon, Kevin\n",
            "\n",
            "Path 4: Actor: Depp, Johnny -> In Movie: Astronaut's Wife, The (1999) with Actor: Bachmann, Conrad -> In Movie: Tremors (1990) with Actor: Bacon, Kevin\n",
            "\n",
            "Path 5: Actor: Depp, Johnny -> In Movie: Astronaut's Wife, The (1999) with Actor: Theron, Charlize -> In Movie: Trapped (2002) with Actor: Bacon, Kevin\n",
            "\n"
          ]
        }
      ]
    },
    {
      "cell_type": "code",
      "source": [
        "print(game.max_number_of_X()) #Print da maior distância entre um ator o centro do universo"
      ],
      "metadata": {
        "colab": {
          "base_uri": "https://localhost:8080/"
        },
        "id": "irR8uPzrkgPg",
        "outputId": "f7650d48-4091-418f-8dc6-dd029a683c6f"
      },
      "execution_count": null,
      "outputs": [
        {
          "output_type": "stream",
          "name": "stdout",
          "text": [
            "6\n"
          ]
        }
      ]
    },
    {
      "cell_type": "code",
      "source": [
        "print(game.count_number_of_X(3)) #Print da quantidade de atores à distância de n (3) do centro do universo"
      ],
      "metadata": {
        "colab": {
          "base_uri": "https://localhost:8080/"
        },
        "id": "MdiIw-F-li_u",
        "outputId": "2525fddc-aeb2-48f2-fdae-5ac4f854d929"
      },
      "execution_count": null,
      "outputs": [
        {
          "output_type": "stream",
          "name": "stdout",
          "text": [
            "44143\n"
          ]
        }
      ]
    },
    {
      "cell_type": "code",
      "source": [
        "print(game.average_number_of_X()) #Print do número médio de X para o centro do universo"
      ],
      "metadata": {
        "colab": {
          "base_uri": "https://localhost:8080/"
        },
        "id": "CeW19N6ol3hJ",
        "outputId": "adeb3226-1d62-4f64-a69b-7be497f06442"
      },
      "execution_count": null,
      "outputs": [
        {
          "output_type": "stream",
          "name": "stdout",
          "text": [
            "2.388606098422029\n"
          ]
        }
      ]
    },
    {
      "cell_type": "markdown",
      "source": [
        "###**Análise Empírica da Memória Utilizada**\n"
      ],
      "metadata": {
        "id": "IOtC1BjQCGJb"
      }
    },
    {
      "cell_type": "code",
      "source": [
        "sys.getsizeof(game._center_of_universe) #49 bytes base + 12 bytes de letras para \"Bacon, Kevin\""
      ],
      "metadata": {
        "colab": {
          "base_uri": "https://localhost:8080/"
        },
        "id": "UXGqr6Ev6y9O",
        "outputId": "815a764e-be20-43fb-9b70-98de96ec302c"
      },
      "execution_count": null,
      "outputs": [
        {
          "output_type": "execute_result",
          "data": {
            "text/plain": [
              "61"
            ]
          },
          "metadata": {},
          "execution_count": 331
        }
      ]
    },
    {
      "cell_type": "code",
      "source": [
        "sys.getsizeof(game._every_number_of_X) #Tamanho médio do dicionário com o número de atores que têm ligação ao centro do universo, quase 122000"
      ],
      "metadata": {
        "colab": {
          "base_uri": "https://localhost:8080/"
        },
        "id": "DN8-ZCPkCUt_",
        "outputId": "6f641859-be7e-4d48-fdd4-db7e684872d2"
      },
      "execution_count": null,
      "outputs": [
        {
          "output_type": "execute_result",
          "data": {
            "text/plain": [
              "5242968"
            ]
          },
          "metadata": {},
          "execution_count": 332
        }
      ]
    },
    {
      "cell_type": "code",
      "source": [
        "sys.getsizeof(game._bipartitegraph._vertices) #Tamanho médio do dicionário com o número de vértices +-127000"
      ],
      "metadata": {
        "colab": {
          "base_uri": "https://localhost:8080/"
        },
        "id": "pml0JomfC_4S",
        "outputId": "f71e1d73-6dd6-404e-bac8-a64c166a19e7"
      },
      "execution_count": null,
      "outputs": [
        {
          "output_type": "execute_result",
          "data": {
            "text/plain": [
              "5242968"
            ]
          },
          "metadata": {},
          "execution_count": 333
        }
      ]
    },
    {
      "cell_type": "markdown",
      "source": [
        "Podemos observar que a memória ocupada a ambas as estruturas dos dicionários é igual, apesar do valor real ser bastante diferente. Tal se deve ao facto de um dicionário representar nomes dos atores (*String*) associadas ao seu número de X (*Int*), e outro representar nomes de vértices (*String*) e o objeto em si (*Vertex*)."
      ],
      "metadata": {
        "id": "icx0bOp1OnU7"
      }
    },
    {
      "cell_type": "code",
      "source": [
        "sys.getsizeof(game._bipartitegraph._adjancencies) #Memória igual uma vez que o número de entradas do dicionário externo é também +-127000"
      ],
      "metadata": {
        "colab": {
          "base_uri": "https://localhost:8080/"
        },
        "id": "MxUnLUX8EndZ",
        "outputId": "2275a4ba-c6d2-48b8-acfd-35d58b2fccaa"
      },
      "execution_count": null,
      "outputs": [
        {
          "output_type": "execute_result",
          "data": {
            "text/plain": [
              "5242968"
            ]
          },
          "metadata": {},
          "execution_count": 334
        }
      ]
    },
    {
      "cell_type": "code",
      "source": [
        "main_dict = game._bipartitegraph._adjancencies.values()\n",
        "inner_dict_list = [d.copy() for d in main_dict]\n",
        "total_size = sum(sys.getsizeof(d) for d in inner_dict_list)\n",
        "individual_size = sys.getsizeof(inner_dict_list[0])\n",
        "print(f\"A memória total ocupada pela estutura dos dicionários internos é: {total_size}\")\n",
        "print(f\"A memória total ocupada pela estutura de um dicionário interno é: {individual_size}\")\n"
      ],
      "metadata": {
        "colab": {
          "base_uri": "https://localhost:8080/"
        },
        "id": "NDy6CCsrQHQU",
        "outputId": "64267659-2a1c-467f-a1fb-92579a94b733"
      },
      "execution_count": null,
      "outputs": [
        {
          "output_type": "stream",
          "name": "stdout",
          "text": [
            "A memória total ocupada pela estutura dos dicionários internos é: 38208304\n",
            "A memória total ocupada pela estutura de um dicionário interno é: 1176\n"
          ]
        }
      ]
    },
    {
      "cell_type": "markdown",
      "source": [
        "Nesta situação, podemos ver que o valor total da estrutura dos dicionários internos é bastante superior ao valor da estrutura dos restantes dicionários. No entanto, o valor individual de cada dicionário interno é bastante inferior."
      ],
      "metadata": {
        "id": "LfJoJzF7QvP1"
      }
    },
    {
      "cell_type": "code",
      "source": [
        "#Criar um dicionário com metade do tamanho para comparação da memória ocupada pela estrutura\n",
        "smaller_dict = {}\n",
        "for i in range((len(game._every_number_of_X) // 2)):\n",
        "  smaller_dict[i] = 0\n",
        "\n",
        "print(sys.getsizeof(smaller_dict))"
      ],
      "metadata": {
        "colab": {
          "base_uri": "https://localhost:8080/"
        },
        "id": "TOYOdXbqTMuS",
        "outputId": "a2149087-e7f5-4c55-9d63-be46a48b8a7d"
      },
      "execution_count": null,
      "outputs": [
        {
          "output_type": "stream",
          "name": "stdout",
          "text": [
            "2621536\n"
          ]
        }
      ]
    },
    {
      "cell_type": "markdown",
      "source": [
        "Com esta última observação podemos concluir que a nossa indução da complexidade espacial do dicionário estava também correta. Para um dicionário com $n$ elementos, a sua estrutura irá ocupar $b$ bytes. Caso o tamanho do dicionário seja $n/2$, o espaço ocupado pelo mesmo será também $b/2$ bytes. Concluindo assim que a sua complexidade é linear.\n",
        "\n",
        "Para calcular o valor real ocupado pela nossa classe, poderíamos assumir um valor médio por linha em cada um dos dicionários e somar ao valor ocupado pela sua estrutura.\n",
        "\n",
        "> *_every_number_of_X*: Assumindo um valor médio de 90 bytes (*String* + *Int*) por linha, teríamos $5242968 + ( 90 * 122000 ) \\simeq 16223000, 16MB$\n",
        "\n",
        "> *_bipartitegraph._veretices*: Assumindo um valor médio de 250 bytes (200 bytes pelo objeto *Vertex* + 50 pela *String*) por linha, chegamos a $5242968 + ( 250 * 127000 ) \\simeq 37000000, 37MB$\n",
        "\n",
        "> *_bipartitegraph._adjancencies*: Por linha, considerando cerca de 25 ligações por cada um dos vértices, teríamos 200 bytes do *Vertex* + 200 bytes do *Edge*, vezes o numero médio de ligações (25), somado com os 1176 bytes ocupados pela estrutura interna juntamente com mais 200 bytes para o valor do *Vertex* que representa a chave da linha, ou seja, por linha: $(200 + 200) * 25 + 1176 + 200 \\simeq 11376$ bytes por linha.\n",
        "Sendo cada linha um vértice, teríamos em média $(11376 * 127000) + 5242968 \\simeq 149718200, 150MB$ bytes no total.\n",
        "\n",
        "> Assumindo que os valores ocupados pelas classes estão corretos, poderemos considerar que uma instância de *HollywoodOracle* com o ficherio small_dataset_utf8.txt irá ocupar, em média, $203MB$.\n",
        "\n",
        "É importante relembrar que este valor se trata apenas de uma aproximação ao valor real, a forma mais precisa de o fazer seria apenas verificar o consumo real de memória ao executar o projeto."
      ],
      "metadata": {
        "id": "vBXns5sqTExn"
      }
    },
    {
      "cell_type": "markdown",
      "source": [
        "#**Testes 👨‍🔬**"
      ],
      "metadata": {
        "id": "VKt7mOEzsvYJ"
      }
    },
    {
      "cell_type": "markdown",
      "source": [
        "##**3.1) Histograma número de atores para Kevin Bacon**"
      ],
      "metadata": {
        "id": "tSMy6Zn75xti"
      }
    },
    {
      "cell_type": "code",
      "source": [
        "#Function that creates an histogram of the number of actors to the default center of universe for a given database\n",
        "def create_histogram_kevin_bacon(filename):\n",
        "  graphAPI = HollywoodOracle(filename)\n",
        "  max_distance = graphAPI.max_number_of_X()\n",
        "  list_of_distances = [graphAPI.count_number_of_X(i) for i in range(max_distance + 1)]\n",
        "\n",
        "  plt.bar(range(max_distance + 1), list_of_distances, color='darkblue', edgecolor='black')\n",
        "  plt.xlabel('Distance to X')\n",
        "  plt.ylabel('Number of Actors')\n",
        "\n",
        "  plt.show()\n",
        "\n",
        "  [print(f\"A uma distância de {i} existem {x} ator/es\") for i, x in enumerate(list_of_distances)]\n",
        "  print(f\"O número médio de X é: {graphAPI.average_number_of_X()}\")"
      ],
      "metadata": {
        "id": "TPjrCHXWtW6o"
      },
      "execution_count": null,
      "outputs": []
    },
    {
      "cell_type": "code",
      "source": [
        "create_histogram_kevin_bacon(\"daa_large_dataset\")"
      ],
      "metadata": {
        "id": "pAkj6oRjv004",
        "colab": {
          "base_uri": "https://localhost:8080/",
          "height": 628
        },
        "outputId": "1a0dd0a3-fe4d-4936-e6e5-922061028695"
      },
      "execution_count": null,
      "outputs": [
        {
          "output_type": "display_data",
          "data": {
            "text/plain": [
              "<Figure size 640x480 with 1 Axes>"
            ],
            "image/png": "[encoded data removed]"
          },
          "metadata": {}
        },
        {
          "output_type": "stream",
          "name": "stdout",
          "text": [
            "A uma distância de 0 existem 1 ator/es\n",
            "A uma distância de 1 existem 2249 ator/es\n",
            "A uma distância de 2 existem 218085 ator/es\n",
            "A uma distância de 3 existem 561132 ator/es\n",
            "A uma distância de 4 existem 111180 ator/es\n",
            "A uma distância de 5 existem 7906 ator/es\n",
            "A uma distância de 6 existem 903 ator/es\n",
            "A uma distância de 7 existem 100 ator/es\n",
            "A uma distância de 8 existem 14 ator/es\n",
            "O número médio de X é: 2.8974954801069246\n"
          ]
        }
      ]
    },
    {
      "cell_type": "markdown",
      "source": [
        "##**3.2) Histograma da distância média de X dos 20 atores mais populares de Hollywood**"
      ],
      "metadata": {
        "id": "rdDT3cR352CC"
      }
    },
    {
      "cell_type": "code",
      "source": [
        "#Function that returns the top 20 actors from the csv file\n",
        "def get_actors_csv(filename):\n",
        "  top_actors = [] #List of the actors\n",
        "  with open(f'/content/drive/My Drive/{filename}.csv', 'r') as file:\n",
        "      for line in file:\n",
        "        columns = line.strip()\n",
        "        top_actors.append(columns.split(\";\")[1])\n",
        "\n",
        "  return top_actors"
      ],
      "metadata": {
        "id": "wHNvueF26aVF"
      },
      "execution_count": null,
      "outputs": []
    },
    {
      "cell_type": "code",
      "source": [
        "#Function that returns the average number of X for each actor on a given lsit\n",
        "def calculate_every_average_X_of_list(actors_list, filename):\n",
        "  top_actors_average_X = {} #Dict that has the average number of X for each actor, <actor's name><actors average number of X>\n",
        "  oracle = HollywoodOracle(filename)\n",
        "  for actor in actors_list:\n",
        "    oracle.set_center_of_universe(actor)\n",
        "    top_actors_average_X[actor] = oracle.average_number_of_X()\n",
        "\n",
        "  return top_actors_average_X\n"
      ],
      "metadata": {
        "id": "20thkWEF7AYP"
      },
      "execution_count": null,
      "outputs": []
    },
    {
      "cell_type": "code",
      "source": [
        "#Given a dict, this function build a bar plot graph with the keys being the x-axis and the values represented by the y-axis\n",
        "def build_bar_plot_with_dict(actors_dict): #<actor's name><average number of X>\n",
        "\n",
        "  plt.bar(actors_dict.keys(), actors_dict.values(), color='darkblue', edgecolor='black')\n",
        "  plt.xlabel(\"Actor's name\")\n",
        "  plt.ylabel(\"Number of X\")\n",
        "\n",
        "  plt.xticks(rotation=90, fontsize=8)\n",
        "\n",
        "  plt.tight_layout()\n",
        "\n",
        "  plt.show()\n",
        "\n",
        "  [print(f\"O ator {key} tem um numero médio de X de: {value}\") for key, value in actors_dict.items()]"
      ],
      "metadata": {
        "id": "19ozNWvf7Bhc"
      },
      "execution_count": null,
      "outputs": []
    },
    {
      "cell_type": "code",
      "source": [
        "top_actors = get_actors_csv(\"top20imbd\")\n",
        "actor_dict = calculate_every_average_X_of_list(top_actors,  \"daa_large_dataset\")\n",
        "build_bar_plot_with_dict(actor_dict)"
      ],
      "metadata": {
        "id": "xCRliTkA7Cjf",
        "colab": {
          "base_uri": "https://localhost:8080/",
          "height": 844
        },
        "outputId": "1b6711dd-9d49-4e15-d0d7-881f1c569f9a"
      },
      "execution_count": null,
      "outputs": [
        {
          "output_type": "display_data",
          "data": {
            "text/plain": [
              "<Figure size 640x480 with 1 Axes>"
            ],
            "image/png": "[encoded data removed]"
          },
          "metadata": {}
        },
        {
          "output_type": "stream",
          "name": "stdout",
          "text": [
            "O ator Depp, Johnny tem um numero médio de X de: 2.871358851780782\n",
            "O ator Damon, Matt tem um numero médio de X de: 2.907931719112215\n",
            "O ator Clooney, George tem um numero médio de X de: 2.877270761005801\n",
            "O ator Jolie, Angelina tem um numero médio de X de: 2.962805993988265\n",
            "O ator Blanchett, Cate tem um numero médio de X de: 2.9758166309881653\n",
            "O ator Bale, Christian tem um numero médio de X de: 2.9393857382122297\n",
            "O ator Pitt, Brad tem um numero médio de X de: 2.869159355346784\n",
            "O ator DiCaprio, Leonardo tem um numero médio de X de: 2.8920117129008287\n",
            "O ator Ledger, Heath tem um numero médio de X de: 3.1100114245150126\n",
            "O ator Portman, Natalie tem um numero médio de X de: 2.949464822476347\n",
            "O ator Diaz, Cameron tem um numero médio de X de: 2.9592200272857347\n",
            "O ator Aniston, Jennifer tem um numero médio de X de: 3.0929656044455784\n",
            "O ator Neeson, Liam tem um numero médio de X de: 2.8505739986911722\n",
            "O ator Crowe, Russell tem um numero médio de X de: 2.9393180784631254\n",
            "O ator Banderas, Antonio (I) tem um numero médio de X de: 2.8517386337167387\n",
            "O ator Bullock, Sandra tem um numero médio de X de: 2.9773051454684607\n",
            "O ator Roberts, Julia (I) tem um numero médio de X de: 2.8515234535310623\n",
            "O ator Thurman, Uma tem um numero médio de X de: 2.8781115165766384\n",
            "O ator Smith, Will (I) tem um numero médio de X de: 2.99873110241024\n",
            "O ator Hanks, Tom tem um numero médio de X de: 2.8632086249542463\n"
          ]
        }
      ]
    },
    {
      "cell_type": "markdown",
      "source": [
        "##**3.3) Gráfico do número médio de X para 1000 atores aleatórios**"
      ],
      "metadata": {
        "id": "enFY_IAe4Xin"
      }
    },
    {
      "cell_type": "markdown",
      "source": [
        "Como não foi especificado o estilo do gráfico para esta questão, tomámos a liberdade de representar os valores através de um  gráfico de linha. Este estilo permite analisar melhor a quantidade de *outliers* e retirar as conclusões necessárias."
      ],
      "metadata": {
        "id": "i0gAaTmN5AGB"
      }
    },
    {
      "cell_type": "code",
      "source": [
        "#Appends in a file the average number of X of 1000 random actors, allows to access the file and print the plot without calculating again\n",
        "def write_1000_number_of_X(filename):\n",
        "  oracle = HollywoodOracle(\"daa_small_dataset\")\n",
        "  actors_list = oracle.all_actors()\n",
        "  actors_distance_to_X = {}\n",
        "  with open(f'/content/drive/My Drive/{filename}.txt', 'a') as file:\n",
        "    for i in range(1000):\n",
        "      actor = rnd.choice(actors_list)\n",
        "      oracle.set_center_of_universe(actor)\n",
        "      actors_distance_to_X[actor] = oracle.average_number_of_X()\n",
        "      file.write(f\"O ator {actor}; tem um numero médio de X de: {actors_distance_to_X[actor]} \\n\")\n"
      ],
      "metadata": {
        "id": "kFHX4WTv4cFX"
      },
      "execution_count": null,
      "outputs": []
    },
    {
      "cell_type": "code",
      "source": [
        "#Write the values on a file\n",
        "write_1000_number_of_X(\"actors_number_of_X\")"
      ],
      "metadata": {
        "id": "WMXF95lNGbzH"
      },
      "execution_count": null,
      "outputs": []
    },
    {
      "cell_type": "code",
      "source": [
        "#From the actors and average values saved on the file, it retreives them and builds a dict\n",
        "def get_dict_from_file(filename):\n",
        "  actor_dict = {}\n",
        "  with open(f'/content/drive/My Drive/{filename}.txt', 'r') as file:\n",
        "    i = 0\n",
        "    for line in file:\n",
        "      line = line.split(\" \", 2)[2]\n",
        "      actor = line.split(\";\")[0]\n",
        "      value = line.split(\":\")[1].strip()\n",
        "      actor_dict[actor] = float(value)\n",
        "      i += 1\n",
        "  #build_line_plot_with_dict(actor_dict)\n",
        "  return actor_dict"
      ],
      "metadata": {
        "id": "2_1L90U2GdFi"
      },
      "execution_count": null,
      "outputs": []
    },
    {
      "cell_type": "code",
      "source": [
        "#Given a dict this function build a line plot with x being the keys and y being the values\n",
        "def build_line_plot_with_dict(actors_dict):\n",
        "\n",
        "    plt.plot(actors_dict.keys(), actors_dict.values(), color='darkblue')\n",
        "\n",
        "    plt.xlabel(\"Actors\")\n",
        "    plt.ylabel(\"Number of X\")\n",
        "\n",
        "    x_ticks_indices = [idx for idx in range(len(actors_dict.keys())) if idx % 200 == 0]\n",
        "    plt.xticks(x_ticks_indices, [idx for idx in x_ticks_indices])\n",
        "    plt.tight_layout()\n",
        "    plt.show()\n",
        "\n",
        "    [print(f\"O ator {key} tem um numero médio de X de: {value}\") for key, value in actors_dict.items()]\n"
      ],
      "metadata": {
        "id": "nrqsMXKh0OJi"
      },
      "execution_count": null,
      "outputs": []
    },
    {
      "cell_type": "code",
      "source": [
        "actor_dict = get_dict_from_file(\"actors_number_of_X\")\n",
        "build_line_plot_with_dict(actor_dict)"
      ],
      "metadata": {
        "id": "ph_tNHeit_A0",
        "colab": {
          "base_uri": "https://localhost:8080/",
          "height": 1000
        },
        "outputId": "54fcbf48-7fb2-41a1-dd92-282d244b104f"
      },
      "execution_count": null,
      "outputs": [
        {
          "output_type": "display_data",
          "data": {
            "text/plain": [
              "<Figure size 640x480 with 1 Axes>"
            ],
            "image/png": "[encoded data removed]"
          },
          "metadata": {}
        },
        {
          "output_type": "stream",
          "name": "stdout",
          "text": [
            "O ator Mordente, Tony tem um numero médio de X de: 2.9552716704159208\n",
            "O ator Briffa, Joseph tem um numero médio de X de: 3.299108389024811\n",
            "O ator Boyle, Sally (I) tem um numero médio de X de: 2.9504852137074926\n",
            "O ator Papineau, Alice tem um numero médio de X de: 3.0640137271965977\n",
            "O ator Lawrence, Marc (I) tem um numero médio de X de: 2.4760184561829854\n",
            "O ator Kusch, Dale tem um numero médio de X de: 3.0963038373754124\n",
            "O ator Cui, Xinmin tem um numero médio de X de: 3.1488727607100047\n",
            "O ator Housman, Jason tem um numero médio de X de: 3.0667640925436364\n",
            "O ator Downes, Kyle tem um numero médio de X de: 3.1516313361028554\n",
            "O ator Ryder, Rob tem um numero médio de X de: 3.0022741826899395\n",
            "O ator Freeman, Issac tem um numero médio de X de: 2.9996305479384575\n",
            "O ator Shue, Tony tem um numero médio de X de: 3.036107781481421\n",
            "O ator Dunn, Kirk tem um numero médio de X de: 3.0039079818065386\n",
            "O ator Davidson, Holly (I) tem um numero médio de X de: 3.4067831398499204\n",
            "O ator Halsey, Darcy tem um numero médio de X de: 3.0629874714700907\n",
            "O ator Nicewicz, Jo Ann tem um numero médio de X de: 2.9659693601090296\n",
            "O ator Tull, Patrick tem um numero médio de X de: 2.9137370486527314\n",
            "O ator Dennis, Marjean tem um numero médio de X de: 3.129702303738855\n",
            "O ator Roberts, Gary (I) tem um numero médio de X de: 2.899205267565393\n",
            "O ator Messing, Martina tem um numero médio de X de: 3.0903597642074843\n",
            "O ator Casnoff, Philip tem um numero médio de X de: 2.9654767573603062\n",
            "O ator Weinhandl, Mark tem um numero médio de X de: 2.9535557708412012\n",
            "O ator Abrishami, Khosrow tem um numero médio de X de: 2.9478333689101985\n",
            "O ator Campbell, Chris (VII) tem um numero médio de X de: 3.0773796817786243\n",
            "O ator Aldridge, Jim tem um numero médio de X de: 3.0554342293229997\n",
            "O ator Rowe, James (II) tem um numero médio de X de: 3.001190456642748\n",
            "O ator Lynn, George (I) tem um numero médio de X de: 3.059169800167485\n",
            "O ator Clancy, Jim (I) tem um numero médio de X de: 3.1021822301768442\n",
            "O ator Flammer, Linda tem um numero médio de X de: 3.190555163297811\n",
            "O ator Long, Howie tem um numero médio de X de: 2.892678281144809\n",
            "O ator Taylor, Ken (II) tem um numero médio de X de: 2.8839510024465937\n",
            "O ator Egan, Rory tem um numero médio de X de: 3.097256202689611\n",
            "O ator Hands, Steve tem um numero médio de X de: 3.062716539958293\n",
            "O ator Korwin, Anna tem um numero médio de X de: 3.008431717048981\n",
            "O ator Kudrow, Lisa tem um numero médio de X de: 2.603610778148142\n",
            "O ator Petty, Anaiah tem um numero médio de X de: 3.0710251063200933\n",
            "O ator Lutz, Mike (I) tem um numero médio de X de: 3.015640137271966\n",
            "O ator Kasch, Max tem um numero médio de X de: 2.8516691023135907\n",
            "O ator Scopp, Alfie tem um numero médio de X de: 3.18623667920067\n",
            "O ator Kooy, Pete tem um numero médio de X de: 3.3126631746605146\n",
            "O ator Sezer, Mete tem um numero médio de X de: 5.912177139948441\n",
            "O ator Akpik, Edith tem um numero médio de X de: 3.0081854156746193\n",
            "O ator Gassant, Denise tem um numero médio de X de: 3.020418383934582\n",
            "O ator Bream, Scott tem um numero médio de X de: 2.9675703190423803\n",
            "O ator Ahern, David tem um numero médio de X de: 3.196154414541633\n",
            "O ator Garber, Charlie tem um numero médio de X de: 3.108930887834354\n",
            "O ator Cambridge, Godfrey tem um numero médio de X de: 3.1652271719676195\n",
            "O ator Carraway, Patricia tem um numero médio de X de: 3.0272163018669644\n",
            "O ator Priestley, Jason tem um numero médio de X de: 2.8011691105236367\n",
            "O ator Nanbu, Shozo tem um numero médio de X de: 4.543004219963548\n",
            "O ator Joyer, Raymond tem um numero médio de X de: 2.967553898950756\n",
            "O ator Price, Molly tem um numero médio de X de: 2.7154069719709035\n",
            "O ator Plantagenet, Richard tem um numero médio de X de: 3.1239881118536643\n",
            "O ator Sturridge, Tom tem um numero médio de X de: 2.9763632781070917\n",
            "O ator Chesnutt, Vic tem um numero médio de X de: 3.080121837079851\n",
            "O ator Crosby, Robin tem um numero médio de X de: 3.1097354723239357\n",
            "O ator Nikolayev, Luba tem um numero médio de X de: 3.0605655079555345\n",
            "O ator Iguchi, Greg tem um numero médio de X de: 3.0679545491863847\n",
            "O ator Kalugin, Yuri tem um numero médio de X de: 4.42064169718067\n",
            "O ator Allen, Rex tem um numero médio de X de: 3.265488251424443\n",
            "O ator Lewarne, Prue tem um numero médio de X de: 2.843253805356234\n",
            "O ator Zaragoza, Gregory tem um numero médio de X de: 3.0640137271965977\n",
            "O ator Kirksey, Robin T. tem um numero médio de X de: 2.986831086517463\n",
            "O ator McNulty, Kevin tem um numero médio de X de: 2.75445394985304\n",
            "O ator Carello, Louis tem um numero médio de X de: 3.037593799773403\n",
            "O ator Steele, DeAnna tem um numero médio de X de: 2.874238518250932\n",
            "O ator Cirilla, Michael tem um numero médio de X de: 3.8057421060409515\n",
            "O ator Tejkh, Georgi tem um numero médio de X de: 4.999556657526149\n",
            "O ator Manning, Laurie tem um numero médio de X de: 3.036854895650318\n",
            "O ator Burke, Inge tem um numero médio de X de: 3.636598742220982\n",
            "O ator Rush, Lee (I) tem um numero médio de X de: 3.4035976420748426\n",
            "O ator Lorrayne, Vyvyan tem um numero médio de X de: 3.0355248682287646\n",
            "O ator Reeves, Scott (III) tem um numero médio de X de: 2.9650580450238913\n",
            "O ator Newman, Fred (I) tem um numero médio de X de: 2.7050869443851497\n",
            "O ator Crescenzo, James tem um numero médio de X de: 3.051780758936635\n",
            "O ator Keith Lester, Derrell tem um numero médio de X de: 3.017988210374214\n",
            "O ator Panc, Alin tem um numero médio de X de: 3.0672402752007355\n",
            "O ator Gaskell, Nandila tem um numero médio de X de: 3.175473309141065\n",
            "O ator Barratt, Rebecca tem um numero médio de X de: 3.033185005172329\n",
            "O ator Alarcon, Lance tem um numero médio de X de: 2.8919147468842876\n",
            "O ator Pease, David tem um numero médio de X de: 3.0075450321012793\n",
            "O ator Price, Tara (II) tem um numero médio de X de: 3.093873663815044\n",
            "O ator Williamson, Geoffrey tem um numero médio de X de: 3.0271013612255957\n",
            "O ator Guerzoni, Fausto tem um numero médio de X de: 3.909402144463966\n",
            "O ator Clair, Thomas tem um numero médio de X de: 2.990706228140753\n",
            "O ator Shackelford, Sharon tem um numero médio de X de: 3.0888162755948176\n",
            "O ator Clark, Davison tem um numero médio de X de: 3.033398466363442\n",
            "O ator O'Toole, Paul (I) tem um numero médio de X de: 3.16470993908146\n",
            "O ator Freiman, Hannah tem um numero médio de X de: 3.120145810413622\n",
            "O ator Patten, Robert tem um numero médio de X de: 2.9571025106320095\n",
            "O ator Kassim, Helmi tem um numero médio de X de: 2.970591615901217\n",
            "O ator Hoffsten, Theodor tem um numero médio de X de: 3.9830708855355414\n",
            "O ator Bick, Stewart tem um numero médio de X de: 2.950501633799117\n",
            "O ator Cairncross, James (I) tem um numero médio de X de: 3.148018915945551\n",
            "O ator Castillo, Lilia tem um numero médio de X de: 3.146114185317154\n",
            "O ator Pontrelli, John tem um numero médio de X de: 2.950887505952283\n",
            "O ator Cummings, Dale tem um numero médio de X de: 3.1002364493193872\n",
            "O ator Hale, Jessica (I) tem um numero médio de X de: 2.8182788459959607\n",
            "O ator M'Barek, Joseph tem um numero médio de X de: 3.830150572240193\n",
            "O ator Budd, Michael tem um numero médio de X de: 3.028185087272787\n",
            "O ator Neil, Kim tem um numero médio de X de: 3.3002249552552505\n",
            "O ator Miles, Maria (I) tem um numero médio de X de: 3.053430978144858\n",
            "O ator Thornton, John (II) tem um numero médio de X de: 3.0057141918851906\n",
            "O ator Sheaffer, Jeff tem um numero médio de X de: 2.9996223378926454\n",
            "O ator Fernandez, Kenneth tem um numero médio de X de: 3.4801398991806374\n",
            "O ator Shanahan, Pauline tem um numero médio de X de: 3.196154414541633\n",
            "O ator Truelove, Danny tem um numero médio de X de: 2.93805520434804\n",
            "O ator Burdick, David tem um numero médio de X de: 3.0626344395001723\n",
            "O ator Menza, Mark tem um numero médio de X de: 3.070130211326579\n",
            "O ator Nason, Bernadette tem um numero médio de X de: 3.027388712829018\n",
            "O ator Warren, Brad (I) tem um numero médio de X de: 3.1113446413030985\n",
            "O ator Devan, Bruce tem um numero médio de X de: 3.021994712730497\n",
            "O ator Shain, Harvey tem um numero médio de X de: 3.062018686064268\n",
            "O ator Chugchilan, Pachacutic tem um numero médio de X de: 3.2655621418367513\n",
            "O ator Mills, Holly tem um numero médio de X de: 3.027388712829018\n",
            "O ator Harvey, Brittney Lee tem um numero médio de X de: 2.9807638626623536\n",
            "O ator Kraslansky, Victor tem um numero médio de X de: 4.42064169718067\n",
            "O ator Novak, Eva tem um numero médio de X de: 3.180038094612568\n",
            "O ator Dog, Enzo the tem um numero médio de X de: 3.0986847506609085\n",
            "O ator Bennett, Eliza (I) tem um numero médio de X de: 3.0262146762778936\n",
            "O ator Roberts, Eliza tem um numero médio de X de: 2.989532191589629\n",
            "O ator Elliott Jr., John Wesley tem um numero médio de X de: 3.096246367054728\n",
            "O ator Porvaznik, Eric tem um numero médio de X de: 3.0272163018669644\n",
            "O ator Fitzgerald, Margaret tem um numero médio de X de: 2.9779149767655704\n",
            "O ator Dooly, Mike tem um numero médio de X de: 3.012553160046633\n",
            "O ator Kong, Lin tem um numero médio de X de: 3.8901249568972593\n",
            "O ator Klokov, Dmitriy tem um numero médio de X de: 3.5203855437513343\n",
            "O ator Crumpton, Joey tem um numero médio de X de: 3.1370256646032084\n",
            "O ator Clemons, Keith tem um numero médio de X de: 3.103750348926947\n",
            "O ator Crowcroft, Pierce tem um numero médio de X de: 3.114842120819034\n",
            "O ator Mages, Samuel tem um numero médio de X de: 3.0186614341308022\n",
            "O ator Clifton, Patti tem um numero médio de X de: 3.0053118996404\n",
            "O ator Okras, Dieter tem um numero médio de X de: 3.5778558644357235\n",
            "O ator Friedman, Norman (I) tem um numero médio de X de: 3.053562338877851\n",
            "O ator López, Andrea (I) tem um numero médio de X de: 3.564785471502931\n",
            "O ator Benavides, Yessenia tem um numero médio de X de: 3.132666130277007\n",
            "O ator Jarvis, Lindsay tem um numero médio de X de: 3.028176877226975\n",
            "O ator Blackburn, Sarah tem um numero médio de X de: 3.674143281719512\n",
            "O ator Hytower, Roy tem um numero médio de X de: 2.8143954943268583\n",
            "O ator Powley, Mark tem um numero médio de X de: 3.0775192525574293\n",
            "O ator Pagés, Francesc tem um numero médio de X de: 3.278796735685785\n",
            "O ator Claibourne, Christine tem um numero médio de X de: 2.988908228107913\n",
            "O ator Nelson, Tommy (I) tem um numero médio de X de: 2.9602551682238385\n",
            "O ator Dailey, Irene tem um numero médio de X de: 3.008275726178552\n",
            "O ator Pierce, Homer tem um numero médio de X de: 3.1578463407825814\n",
            "O ator Ballot, Steve tem um numero médio de X de: 2.9464951314428336\n",
            "O ator Farkas, Jo tem um numero médio de X de: 2.7627460961232164\n",
            "O ator Villari, Libby tem um numero médio de X de: 2.7694454935058537\n",
            "O ator Hall, Scott H. tem um numero médio de X de: 3.0865913531797506\n",
            "O ator Stephenson, Dwight tem um numero médio de X de: 3.011026091525591\n",
            "O ator Chaplin, Josephine tem um numero médio de X de: 3.2446018948785733\n",
            "O ator Moore, Brian (II) tem um numero médio de X de: 3.337498563241983\n",
            "O ator Lake, Steven W. tem um numero médio de X de: 2.966798574736047\n",
            "O ator Steward, Emanuel tem um numero médio de X de: 2.8921035779379647\n",
            "O ator Smith, Mark (XIII) tem um numero médio de X de: 2.9200341537905783\n",
            "O ator Ottman, Mary tem um numero médio de X de: 3.0374049687197253\n",
            "O ator Shihan, Cheng tem um numero médio de X de: 3.150079637444377\n",
            "O ator Moggie, K.K. tem um numero médio de X de: 3.1958670629382113\n",
            "O ator Booth, Anthony (I) tem um numero médio de X de: 2.948514802712599\n",
            "O ator Claussen, Lori (I) tem um numero médio de X de: 2.994589579809855\n",
            "O ator Meyer, Joey tem um numero médio de X de: 3.4526772959393113\n",
            "O ator Roche, Eamonn tem um numero médio de X de: 3.0451306218288696\n",
            "O ator Bone Crusher tem um numero médio de X de: 3.1646688888524\n",
            "O ator Pepper, Barbara tem um numero médio de X de: 2.935682501108356\n",
            "O ator Venhauerova, Julie tem um numero médio de X de: 3.073652320979951\n",
            "O ator Ferencz, Tracy tem um numero médio de X de: 3.027257352096025\n",
            "O ator Miyamoto, Kana tem um numero médio de X de: 3.058570466823205\n",
            "O ator Vander Woude, Rachel tem um numero médio de X de: 3.067486576575097\n",
            "O ator Russell, Brian (I) tem um numero médio de X de: 3.0558447316136026\n",
            "O ator Christie, Edward G. tem um numero médio de X de: 3.0601385855733074\n",
            "O ator Ormond, Julia tem um numero médio de X de: 2.735078241736589\n",
            "O ator Abbott, Sandra tem um numero médio de X de: 3.303615704175629\n",
            "O ator Luez, Laurette tem um numero médio de X de: 3.4293607658330734\n",
            "O ator Jeevaji, Roopashree tem um numero médio de X de: 2.951790610991609\n",
            "O ator Stone, Gigi tem um numero médio de X de: 3.1024942119177026\n",
            "O ator Redler, Romain tem um numero médio de X de: 3.283492881890281\n",
            "O ator Speck, Jan tem um numero médio de X de: 2.727278698215136\n",
            "O ator LaGue, Kathleen tem um numero médio de X de: 2.824181868934829\n",
            "O ator Murphy, Thomas (I) tem um numero médio de X de: 2.920732007684603\n",
            "O ator Thomas, Henry G. tem um numero médio de X de: 2.9289502635424705\n",
            "O ator Moseley, Marion tem um numero médio de X de: 3.1074941298172445\n",
            "O ator Neuenschwander, Bria tem um numero médio de X de: 3.0400896537002677\n",
            "O ator Camp, Don tem um numero médio de X de: 3.0774535721909326\n",
            "O ator Spealman, Colleen tem um numero médio de X de: 2.967553898950756\n",
            "O ator Humphreys, Ned tem um numero médio de X de: 3.070688494441799\n",
            "O ator Daniel, Paul (III) tem um numero médio de X de: 3.1922300126434706\n",
            "O ator Walton, Gary H. tem um numero médio de X de: 2.8874320618709053\n",
            "O ator Collins, David (XI) tem um numero médio de X de: 3.083184184167748\n",
            "O ator Reinton, Sandra tem um numero médio de X de: 3.04369386381176\n",
            "O ator Thompson, Matthew (II) tem um numero médio de X de: 3.032774502881726\n",
            "O ator Senechal, Christelle tem um numero médio de X de: 3.090597855536034\n",
            "O ator Shepard, Jewel tem um numero médio de X de: 2.9950493423753306\n",
            "O ator McKinnon, Danny tem um numero médio de X de: 3.100835782663667\n",
            "O ator Alexander, Tim (II) tem um numero médio de X de: 3.0340306398909704\n",
            "O ator Ozuk, Ronn tem um numero médio de X de: 2.907431733469073\n",
            "O ator Harper, Stacey (I) tem um numero médio de X de: 2.8168420879788507\n",
            "O ator Hawkins, Jakob tem um numero médio de X de: 3.0793665128651417\n",
            "O ator Kehler, Jack tem um numero médio de X de: 2.3421782893548544\n",
            "O ator Ettlinger, Mark tem um numero médio de X de: 3.0196548496740614\n",
            "O ator Standaart, Gianni tem um numero médio de X de: 3.37870478317269\n",
            "O ator Hanson, Kathy tem um numero médio de X de: 3.0616081837736653\n",
            "O ator Michaels, Julie (I) tem um numero médio de X de: 2.6973530812301934\n",
            "O ator Ross, Kimberly (I) tem um numero médio de X de: 3.075253279913302\n",
            "O ator Schrager, Rita Norona tem um numero médio de X de: 2.9671105564769054\n",
            "O ator Townsend Jr., Vince tem um numero médio de X de: 3.0782581566805143\n",
            "O ator Poulten, Benari tem um numero médio de X de: 2.9874057897243067\n",
            "O ator Street, Carly tem um numero médio de X de: 3.0105252787310555\n",
            "O ator Page, Christine tem um numero médio de X de: 3.142124103052495\n",
            "O ator Thomas, Ken (II) tem um numero médio de X de: 2.7991165990706226\n",
            "O ator Ginther, Greg tem um numero médio de X de: 2.880305742106041\n",
            "O ator Francis, Allan R. tem um numero médio de X de: 3.1230029063562177\n",
            "O ator Dolan, Tony tem um numero médio de X de: 3.2139291637247336\n",
            "O ator Dupeyrón, Elizabeth tem um numero médio de X de: 3.146114185317154\n",
            "O ator Soto, Rocky tem um numero médio de X de: 3.0641204577921544\n",
            "O ator Washington, Grover tem um numero médio de X de: 3.008719068652403\n",
            "O ator McCullough, Carolina tem um numero médio de X de: 2.8354953120638413\n",
            "O ator Regan, Dan tem um numero médio de X de: 3.015090064202558\n",
            "O ator Kubrick, Anya tem um numero médio de X de: 2.9795651959737937\n",
            "O ator DiTota, Karen tem um numero médio de X de: 3.266112214906159\n",
            "O ator Hawkins, Rich tem um numero médio de X de: 2.902891578135006\n",
            "O ator Roberts, Arnold tem um numero médio de X de: 2.990197205300406\n",
            "O ator Yip, Wilson tem um numero médio de X de: 0.9767441860465116\n",
            "O ator Howerd, Frankie tem um numero médio de X de: 3.0061411142674177\n",
            "O ator Orozco, Russell tem um numero médio de X de: 3.0200489318730397\n",
            "O ator Sobel, Barry tem um numero médio de X de: 2.6835027339452555\n",
            "O ator Lenhardt, Lowell tem um numero médio de X de: 2.9996223378926454\n",
            "O ator Phillips, G. Elvis tem um numero médio de X de: 3.046189717738625\n",
            "O ator Marin, Jacques (I) tem um numero médio de X de: 2.9422341176663767\n",
            "O ator Colindres, Imelda tem um numero médio de X de: 3.031772877292655\n",
            "O ator Smith, David Colin tem um numero médio de X de: 2.9796062462028536\n",
            "O ator Kruper, Karen tem um numero médio de X de: 3.0801054169882267\n",
            "O ator Butler, Garner tem um numero médio de X de: 2.9997865388088867\n",
            "O ator Visone, Justine tem um numero médio de X de: 2.9944828492142985\n",
            "O ator Li, Xuejian tem um numero médio de X de: 3.863918490665178\n",
            "O ator Cultraro, Candace Elaine tem um numero médio de X de: 3.0255250324296807\n",
            "O ator Delain, Florian tem um numero médio de X de: 4.2569580138257175\n",
            "O ator Louwagie, Misty tem um numero médio de X de: 3.039687361455477\n",
            "O ator Williams, Berta J. tem um numero médio de X de: 3.0768131886175927\n",
            "O ator Field, Josef tem um numero médio de X de: 3.0694898277532388\n",
            "O ator Sheiner, David tem um numero médio de X de: 2.9566837982955945\n",
            "O ator Gillespie, Michael (I) tem um numero médio de X de: 3.0434475624373984\n",
            "O ator Edwards, Elwood tem um numero médio de X de: 2.7512274018489022\n",
            "O ator Quesada, Ozana tem um numero médio de X de: 3.0605655079555345\n",
            "O ator Thompson, Ward tem um numero médio de X de: 2.967553898950756\n",
            "O ator Bovino, Francesco tem um numero médio de X de: 3.0088175892021476\n",
            "O ator Cargo, Jamar tem um numero médio de X de: 3.053143626541436\n",
            "O ator Engel, Paula tem um numero médio de X de: 3.124300093594522\n",
            "O ator Melvin, Michael (I) tem um numero médio de X de: 2.9705669857637806\n",
            "O ator Royer, Arsène tem um numero médio de X de: 3.680079144841628\n",
            "O ator Hammond, John (IV) tem um numero médio de X de: 3.0530697361291277\n",
            "O ator Gordon Sinclair, John tem um numero médio de X de: 2.986716145876094\n",
            "O ator Aizac, Stephane tem um numero médio de X de: 3.5737344214380715\n",
            "O ator Roy, Lise tem um numero médio de X de: 3.4801398991806374\n",
            "O ator Schiano, Mario tem um numero médio de X de: 3.782778607904632\n",
            "O ator Nomar, Ramon (I) tem um numero médio de X de: 3.4927997898228273\n",
            "O ator Lepine, Danielle tem um numero médio de X de: 3.420452866126993\n",
            "O ator Yago, Art T. tem um numero médio de X de: 3.0144989409040903\n",
            "O ator Gaylord, Chuck tem um numero médio de X de: 3.125022577625983\n",
            "O ator Stone, Michelle tem um numero médio de X de: 3.063759215776424\n",
            "O ator Valpy, Rebecca tem um numero médio de X de: 3.1505804502389125\n",
            "O ator Bay, Willow tem um numero médio de X de: 3.0921249240570763\n",
            "O ator Pepa Nos, Josef tem um numero médio de X de: 3.073652320979951\n",
            "O ator Willette, JoAnn tem um numero médio de X de: 3.0053118996404\n",
            "O ator Jefferson, Cedric tem um numero médio de X de: 3.0414278911676327\n",
            "O ator Shaw, Reverend Emery tem um numero médio de X de: 3.0120030869772254\n",
            "O ator Brody, Shirley (I) tem um numero médio de X de: 2.912768263246909\n",
            "O ator Pham, Ky tem um numero médio de X de: 3.1942989441881084\n",
            "O ator Downing, Rex tem um numero médio de X de: 3.458071296037832\n",
            "O ator Groh, Alison tem um numero médio de X de: 2.9915190226761466\n",
            "O ator Díaz, Juan Manuel tem um numero médio de X de: 3.2036419763222277\n",
            "O ator Franco, Tom (I) tem um numero médio de X de: 3.023012758411192\n",
            "O ator Ruggieri, François tem um numero médio de X de: 3.31436265414361\n",
            "O ator Houston, Thelma tem um numero médio de X de: 2.896101870248436\n",
            "O ator Mone, Sheila tem um numero médio de X de: 3.0015188584752304\n",
            "O ator Bauer, Richard (I) tem um numero médio de X de: 2.8605934221112954\n",
            "O ator Kusakabe, Masaki tem um numero médio de X de: 3.2793878589842533\n",
            "O ator McBain, Diane tem um numero médio de X de: 3.0958769149931857\n",
            "O ator Blarasin, Ermes tem um numero médio de X de: 2.9518316612206696\n",
            "O ator Summer, Cree tem um numero médio de X de: 2.8972102264330637\n",
            "O ator Larson, Kurt (I) tem um numero médio de X de: 2.914549843188125\n",
            "O ator Ferratti, Rebecca tem um numero médio de X de: 2.8235332753156763\n",
            "O ator McDonald, Jasmine tem um numero médio de X de: 3.066567051444147\n",
            "O ator Jacob, Donald tem um numero médio de X de: 3.0253444114218158\n",
            "O ator Retton, Mary Lou tem um numero médio de X de: 2.8113495673305855\n",
            "O ator Lono, Jimmy tem um numero médio de X de: 3.533932119341226\n",
            "O ator Plasschaert, Alex tem um numero médio de X de: 3.1390042856439138\n",
            "O ator Giuliani, Rudolph W. tem um numero médio de X de: 2.7646918769806734\n",
            "O ator Fleet, Stanley tem um numero médio de X de: 3.18623667920067\n",
            "O ator Watkinson, Craig tem um numero médio de X de: 2.945854747869493\n",
            "O ator Cubilette, Tammi tem um numero médio de X de: 3.027610384065943\n",
            "O ator Fraboni, Angelo tem um numero médio de X de: 2.865716490698018\n",
            "O ator Ravalec, Blanche tem um numero médio de X de: 3.15524375626016\n",
            "O ator Greene, Fred (II) tem um numero médio de X de: 3.3924894500911313\n",
            "O ator Thaler, Emma tem um numero médio de X de: 2.937439450912136\n",
            "O ator Zagrebnev, Yury tem um numero médio de X de: 4.42064169718067\n",
            "O ator Floche, Sébastien tem um numero médio de X de: 3.023866603175646\n",
            "O ator Yoshizawa, Tomomi tem um numero médio de X de: 3.309715768213987\n",
            "O ator Conserva, Adriana tem um numero médio de X de: 4.0031116073627695\n",
            "O ator Montejano, Peter P. tem um numero médio de X de: 3.1526658018751745\n",
            "O ator Viterelli, Joe tem um numero médio de X de: 2.515820758279831\n",
            "O ator McAdams, John (II) tem um numero médio de X de: 2.9673732779428907\n",
            "O ator Gonzalez, Raul (II) tem um numero médio de X de: 3.0867062938211194\n",
            "O ator Lachenauer, Gustave tem um numero médio de X de: 3.0509925945386773\n",
            "O ator Wheal, Stacey tem um numero médio de X de: 3.0412144299765194\n",
            "O ator Webb, Jim (I) tem um numero médio de X de: 3.154669053053316\n",
            "O ator Musi, Gianni tem um numero médio de X de: 3.022158913646738\n",
            "O ator Brandt, Max (I) tem um numero médio de X de: 3.0066993973826373\n",
            "O ator Yokley, Ronal G. tem um numero médio de X de: 2.9123249207730577\n",
            "O ator Santia, Moris tem um numero médio de X de: 3.0815011247762762\n",
            "O ator Harris, Joe (VII) tem um numero médio de X de: 3.0307384115203364\n",
            "O ator Scherrman, Paul tem um numero médio de X de: 2.9628741728378842\n",
            "O ator O'Neil, Kitty (I) tem um numero médio de X de: 3.5968539104448203\n",
            "O ator Loder, Anne Marie tem um numero médio de X de: 3.2143725061985844\n",
            "O ator Yvan, Carolane tem um numero médio de X de: 3.2919902793057587\n",
            "O ator Brooks, Dana tem um numero médio de X de: 2.9966420912628693\n",
            "O ator Romero, Carlos (I) tem um numero médio de X de: 3.153913728838607\n",
            "O ator Luttrell, Kent W. tem um numero médio de X de: 3.0609021198338286\n",
            "O ator Dillon, Jack (II) tem um numero médio de X de: 3.0150408039276857\n",
            "O ator Reale, Massimo tem um numero médio de X de: 3.0088175892021476\n",
            "O ator Gibson, Geri tem um numero médio de X de: 3.0566903663322442\n",
            "O ator Lethin, Lori tem um numero médio de X de: 3.080860741202936\n",
            "O ator Homer, Dru tem um numero médio de X de: 2.9575786932891086\n",
            "O ator Masi, Frank tem um numero médio de X de: 2.9904681368122032\n",
            "O ator Warry-Smith, Dan tem um numero médio de X de: 2.8624160522815716\n",
            "O ator Xu, Yao tem um numero médio de X de: 3.479844337531403\n",
            "O ator Pigford, Eva tem um numero médio de X de: 3.340355659184578\n",
            "O ator Takeda, Hisao tem um numero médio de X de: 3.0288336808919394\n",
            "O ator King, Jeff (III) tem um numero médio de X de: 3.033800758608233\n",
            "O ator Greenwood, Bruce (I) tem um numero médio de X de: 2.4368811677969164\n",
            "O ator Johnson, Jennifer D. tem um numero médio de X de: 3.1088323672846094\n",
            "O ator Rosner, Hans tem um numero médio de X de: 3.067749298041083\n",
            "O ator Hull, Miles tem um numero médio de X de: 3.0140966486592995\n",
            "O ator Istumi, Taro tem um numero médio de X de: 3.7799871923285333\n",
            "O ator Mantegna, Joe tem um numero médio de X de: 2.4115203362834765\n",
            "O ator Brezner, China tem um numero médio de X de: 3.0111574522585838\n",
            "O ator O'Grady, Paul tem um numero médio de X de: 3.097789855667395\n",
            "O ator Fairlie, Kristin tem um numero médio de X de: 2.9271768936470663\n",
            "O ator Varda, Agnès tem um numero médio de X de: 3.082297499220046\n",
            "O ator Swan, Mark (II) tem um numero médio de X de: 3.2304231457611534\n",
            "O ator Seago, Alex tem um numero médio de X de: 3.09357810216581\n",
            "O ator Steuer, Julius tem um numero médio de X de: 3.101082084038029\n",
            "O ator Chapman, Victoria (II) tem um numero médio de X de: 2.9798607576230274\n",
            "O ator Porter, Steven M. tem um numero médio de X de: 2.6845864599924467\n",
            "O ator Fletcher, Charlotte tem um numero médio de X de: 3.048570631024121\n",
            "O ator Monical, Bruce tem um numero médio de X de: 3.0681187501026255\n",
            "O ator Caicedo, Donny tem um numero médio de X de: 2.999105105006486\n",
            "O ator Nichols, Violet tem um numero médio de X de: 3.1833385330290143\n",
            "O ator Ross, Ted (I) tem um numero médio de X de: 2.7112608988358153\n",
            "O ator Fitzgerald, Michael (I) tem um numero médio de X de: 2.844280061082741\n",
            "O ator O'Malley, Ian tem um numero médio de X de: 3.036436183313903\n",
            "O ator Gorcey Jr., Leo tem um numero médio de X de: 3.021239388515788\n",
            "O ator Nilsson, Shane tem um numero médio de X de: 3.041173379747459\n",
            "O ator Coburn, Pat (I) tem um numero médio de X de: 0.9411764705882353\n",
            "O ator Thor, Larry tem um numero médio de X de: 3.075811563028522\n",
            "O ator Li, Fa Zeng tem um numero médio de X de: 3.6445214364296152\n",
            "O ator Cote, Lorraine tem um numero médio de X de: 2.915272327219586\n",
            "O ator Williams, Nadia tem um numero médio de X de: 3.1344148700349748\n",
            "O ator Cherry, Don (II) tem um numero médio de X de: 3.0142936897587886\n",
            "O ator Allred, Gloria tem um numero médio de X de: 2.829797540270275\n",
            "O ator Mizuhashi, Kenji tem um numero médio de X de: 3.838582289289174\n",
            "O ator Dudley, Robert (II) tem um numero médio de X de: 3.044991051050065\n",
            "O ator Braddock, John David tem um numero médio de X de: 2.904098454869378\n",
            "O ator Demme, Josephine tem um numero médio de X de: 2.908244528004466\n",
            "O ator Jones, Steve (V) tem um numero médio de X de: 3.1035533078274575\n",
            "O ator Flynn, Meagan tem um numero médio de X de: 3.1051542667608087\n",
            "O ator Mackenzie, Harris tem um numero médio de X de: 2.9806407119751728\n",
            "O ator Weber, Steven (I) tem um numero médio de X de: 2.742442652830003\n",
            "O ator Yanez, Adriana tem um numero médio de X de: 3.022864977586575\n",
            "O ator Thrasher, Katie tem um numero médio de X de: 3.066723042314576\n",
            "O ator Arian, Marc tem um numero médio de X de: 3.165194331784371\n",
            "O ator Hutton, Timothy tem um numero médio de X de: 2.565975928145679\n",
            "O ator Cunningham, Sarah (I) tem um numero médio de X de: 2.942037076566887\n",
            "O ator Durango, Christian tem um numero médio de X de: 3.10068800183905\n",
            "O ator Severe, Peggy tem um numero médio de X de: 3.04225710579465\n",
            "O ator Fairbrass, Craig tem um numero médio de X de: 3.0321012791251376\n",
            "O ator Cousineau, Kelly tem um numero médio de X de: 2.9739823648215955\n",
            "O ator Royde, Frank tem um numero médio de X de: 2.967553898950756\n",
            "O ator Suskin, Mitchell tem um numero médio de X de: 3.143774322260718\n",
            "O ator Wright Penn, Robin tem um numero médio de X de: 2.5159356989212\n",
            "O ator Syyouk, Igor tem um numero médio de X de: 3.0050409681286023\n",
            "O ator Prin Jr., Thom tem um numero médio de X de: 2.9452636245710253\n",
            "O ator Lilley, Clint tem um numero médio de X de: 2.718001346447513\n",
            "O ator Rea, Charles tem um numero médio de X de: 3.2484113561353674\n",
            "O ator Collins, Dave (I) tem um numero médio de X de: 3.052700284067585\n",
            "O ator Alexander, Richard (I) tem um numero médio de X de: 2.996215168880642\n",
            "O ator Kellman, Sean tem um numero médio de X de: 3.058627937143889\n",
            "O ator Perevedentseva, Julia tem um numero médio de X de: 3.024498776703174\n",
            "O ator Harvey, Lawrence 'King' tem um numero médio de X de: 3.0753189602797986\n",
            "O ator Sykes, Kim tem um numero médio de X de: 2.9506329945321097\n",
            "O ator Maxwell, Paulette tem um numero médio de X de: 3.013571205727328\n",
            "O ator Brooks, Temple tem um numero médio de X de: 3.0166089226777886\n",
            "O ator Penny, Brendan (I) tem um numero médio de X de: 3.2232393556756045\n",
            "O ator Hux, Tiana tem um numero médio de X de: 3.1833385330290143\n",
            "O ator Hatch, Robert (II) tem um numero médio de X de: 2.992446757852909\n",
            "O ator Sorensen, Paul (II) tem um numero médio de X de: 2.8966355232262195\n",
            "O ator Haji (I) tem um numero médio de X de: 3.168084267910215\n",
            "O ator Robbins, Miles Guthrie tem um numero médio de X de: 2.8799937603651826\n",
            "O ator Behling, Robert tem um numero médio de X de: 3.015812548234019\n",
            "O ator Barela, Richard tem um numero médio de X de: 2.74466757524507\n",
            "O ator Cottel, Clee tem um numero médio de X de: 3.0039079818065386\n",
            "O ator Leslie, Elizabeth (I) tem um numero médio de X de: 3.0355905485952612\n",
            "O ator Braga, Ana Maria (I) tem um numero médio de X de: 3.3049293115055582\n",
            "O ator Moody, Ron tem um numero médio de X de: 3.391512454639497\n",
            "O ator Culkin, Rory tem um numero médio de X de: 2.7308336480517563\n",
            "O ator Langseth, Matt tem um numero médio de X de: 2.926093167599875\n",
            "O ator Seo, Joe tem um numero médio de X de: 3.042486987077388\n",
            "O ator Chace, Kelsey tem um numero médio de X de: 2.8811595868704947\n",
            "O ator Marshall, Gary DeWitt tem um numero médio de X de: 2.7584768723009474\n",
            "O ator Winfield, Ash tem um numero médio de X de: 3.0004843927029112\n",
            "O ator Christie, Audrey tem um numero médio de X de: 3.1652271719676195\n",
            "O ator Casey, Brian (IV) tem um numero médio de X de: 2.951790610991609\n",
            "O ator Klitschko, Wladimir tem um numero médio de X de: 2.8921035779379647\n",
            "O ator Auerbach, Gary tem um numero médio de X de: 3.0306152608331556\n",
            "O ator Clark, Nicole Ilise tem um numero médio de X de: 3.036436183313903\n",
            "O ator White, Brian J. tem um numero médio de X de: 2.8557248649447464\n",
            "O ator Walker, Bobby (I) tem um numero médio de X de: 3.1004417004646885\n",
            "O ator Billings, Gail tem um numero médio de X de: 3.1027651434295005\n",
            "O ator Evans, Christina tem um numero médio de X de: 3.1568447151935106\n",
            "O ator Nash, Robert (I) tem um numero médio de X de: 3.0610499006584457\n",
            "O ator Boulanger, Jean-Marc tem um numero médio de X de: 3.8049621516888066\n",
            "O ator Kruse, Daniel (I) tem um numero médio de X de: 3.024621927390355\n",
            "O ator Gates, Jean tem um numero médio de X de: 2.9665769034991216\n",
            "O ator Fares, Michael tem um numero médio de X de: 4.78213001428548\n",
            "O ator Odashima, Takashi tem um numero médio de X de: 3.1394722582552013\n",
            "O ator Young, David (I) tem um numero médio de X de: 3.087363097486084\n",
            "O ator Thomsett, Sally tem um numero médio de X de: 3.1333065138503473\n",
            "O ator Napoles, Anna Marie tem um numero médio de X de: 3.0732582387809724\n",
            "O ator Johnson, Karl (II) tem um numero médio de X de: 3.0009934155432587\n",
            "O ator Coda, Frank tem um numero médio de X de: 3.195390880281112\n",
            "O ator Cardinale, Alexander tem um numero médio de X de: 3.0075450321012793\n",
            "O ator Wilkins, Drew tem um numero médio de X de: 3.0204019638429584\n",
            "O ator Hackett, David tem um numero médio de X de: 3.260636114349518\n",
            "O ator Moore, Phil (II) tem um numero médio de X de: 3.0003694520615425\n",
            "O ator Hetherington, Gary tem um numero médio de X de: 2.849197878524162\n",
            "O ator Pace, Anthony tem um numero médio de X de: 3.0794650334148863\n",
            "O ator Naegele, Robert tem um numero médio de X de: 3.4419221359255183\n",
            "O ator Calvacca Jr., Joe tem um numero médio de X de: 3.046041936914008\n",
            "O ator Kalember, Patricia tem um numero médio de X de: 2.793812909476035\n",
            "O ator Nishijo, Etsuro tem um numero médio de X de: 3.7591665161491603\n",
            "O ator Keurvorst, Derek tem um numero médio de X de: 2.8542716868360127\n",
            "O ator Glover, John R. tem um numero médio de X de: 2.9952217533373835\n",
            "O ator John, Darryl tem um numero médio de X de: 3.072018521863352\n",
            "O ator Garritano, George tem um numero médio de X de: 3.093996814502225\n",
            "O ator Cramer, Grant tem um numero médio de X de: 3.2365314198453228\n",
            "O ator Church, Trevor tem um numero médio de X de: 3.0895141294888426\n",
            "O ator Peters, Faye tem um numero médio de X de: 3.0695472980739233\n",
            "O ator Swerdlow, Kevin tem um numero médio de X de: 2.9651401454820117\n",
            "O ator Antaky, Faye tem um numero médio de X de: 3.2518349452389943\n",
            "O ator Sroka, Kristin tem um numero médio de X de: 3.0444984483013413\n",
            "O ator Dynamite (IV) tem um numero médio de X de: 3.8052166631089803\n",
            "O ator Stein, June tem um numero médio de X de: 2.8349370289486213\n",
            "O ator Carroll, Matthew (IV) tem um numero médio de X de: 3.0424048866192672\n",
            "O ator Normyle, Bill tem um numero médio de X de: 2.8919147468842876\n",
            "O ator Norrup, Christina Marie tem um numero médio de X de: 2.95275118635162\n",
            "O ator Ransdell, Judith (I) tem um numero médio de X de: 3.0873220472570235\n",
            "O ator Joshua, Larry tem um numero médio de X de: 2.5094990230045484\n",
            "O ator Holladay, Logan tem um numero médio de X de: 3.0728231063529337\n",
            "O ator Jackson, Jean-Pierre tem um numero médio de X de: 3.2673437217779675\n",
            "O ator Lear, Jacqueline tem um numero médio de X de: 3.0964105679709695\n",
            "O ator Rhodes, Jordan tem um numero médio de X de: 2.903326710563045\n",
            "O ator Lockhart, Anne (I) tem um numero médio de X de: 2.512832301604243\n",
            "O ator Colucci, George G. tem um numero médio de X de: 2.620424951971232\n",
            "O ator Argento, Asia tem um numero médio de X de: 2.815076928129259\n",
            "O ator Pla, Montse tem um numero médio de X de: 3.0867062938211194\n",
            "O ator Boone, Kirk tem um numero médio de X de: 3.2518349452389943\n",
            "O ator Berezin, Tanya tem um numero médio de X de: 2.86748165054761\n",
            "O ator Cohan, Lauren tem um numero médio de X de: 3.075113709134497\n",
            "O ator Simmons, Erica tem um numero médio de X de: 2.994064136877884\n",
            "O ator Joubert, Marc (I) tem um numero médio de X de: 2.9342867933203065\n",
            "O ator Fritsch, Hannes tem um numero médio de X de: 2.78988029753206\n",
            "O ator Tien, James tem um numero médio de X de: 3.1076583307334853\n",
            "O ator Hedrick, Tom tem um numero médio de X de: 3.0493587954220787\n",
            "O ator Burgess, Terry A. tem um numero médio de X de: 3.065852777458498\n",
            "O ator Ung, Jill tem um numero médio de X de: 5.97986896766884\n",
            "O ator Valentin, Anthony tem um numero médio de X de: 2.920732007684603\n",
            "O ator De Nicola, Krum tem um numero médio de X de: 3.782778607904632\n",
            "O ator Northup, Harry tem um numero médio de X de: 2.533406676409254\n",
            "O ator Tracy, Dennis tem um numero médio de X de: 3.0650317728772927\n",
            "O ator Federline, Kevin tem um numero médio de X de: 3.2059325791037914\n",
            "O ator Newbery, Don tem um numero médio de X de: 2.9996223378926454\n",
            "O ator Mullins, Isaac tem um numero médio de X de: 3.003727360798673\n",
            "O ator Gulde, Bill tem um numero médio de X de: 3.0679299190489484\n",
            "O ator Merrill, Norman (I) tem um numero médio de X de: 2.8900018062100785\n",
            "O ator Ryan, Marisa tem um numero médio de X de: 2.9593438531387006\n",
            "O ator Deutsch, Ernst tem um numero médio de X de: 3.286908260948096\n",
            "O ator Cowan, W.K. tem um numero médio de X de: 3.0964105679709695\n",
            "O ator Waney, Rick (I) tem um numero médio de X de: 3.2630498678182622\n",
            "O ator Hayes, Julia tem um numero médio de X de: 2.951790610991609\n",
            "O ator Bonanno, Joseph tem um numero médio de X de: 3.0038915617149144\n",
            "O ator Abel, Michelle tem um numero médio de X de: 3.136606952266794\n",
            "O ator Hughes, Laura Leigh tem um numero médio de X de: 2.8563077781974022\n",
            "O ator Cox, Sidney tem um numero médio de X de: 2.9996305479384575\n",
            "O ator Dawg, Phife tem um numero médio de X de: 3.0280947767688544\n",
            "O ator Cook, J.B. tem um numero médio de X de: 3.0396627313180407\n",
            "O ator Evans, Bob (I) tem um numero médio de X de: 2.967553898950756\n",
            "O ator Crawley, Charles tem um numero médio de X de: 3.2591254659201\n",
            "O ator Branchu, Jacques tem um numero médio de X de: 0.9230769230769231\n",
            "O ator Beard, Tom (I) tem um numero médio de X de: 3.063841316234545\n",
            "O ator Wilson, Shawn (IV) tem um numero médio de X de: 2.946388400847277\n",
            "O ator Barish, Keith tem um numero médio de X de: 2.88665210751876\n",
            "O ator Schubert, Julie tem um numero médio de X de: 3.0015763287959145\n",
            "O ator Christie, Barbara (II) tem um numero médio de X de: 2.980221999638758\n",
            "O ator Green, Dan (III) tem um numero médio de X de: 3.8693453309469468\n",
            "O ator Guest, Tom (I) tem um numero médio de X de: 3.2721958588528923\n",
            "O ator Brown, Katie L. tem um numero médio de X de: 3.0948260291292424\n",
            "O ator Seipp, Michele tem um numero médio de X de: 2.9504852137074926\n",
            "O ator Cochran, Frances tem um numero médio de X de: 3.700554999096895\n",
            "O ator Landrum, Cherokee tem um numero médio de X de: 2.967553898950756\n",
            "O ator Davis, Noel (I) tem um numero médio de X de: 3.2131820495558365\n",
            "O ator Birney, Dion tem um numero médio de X de: 3.3901660071263198\n",
            "O ator Citti, Marc tem um numero médio de X de: 3.265504671516067\n",
            "O ator Badasci, Zachary tem um numero médio de X de: 3.0186942743140506\n",
            "O ator Lacoco, Joe tem um numero médio de X de: 2.8813648380157963\n",
            "O ator Erwin, Mike (II) tem um numero médio de X de: 2.7877703157583618\n",
            "O ator Wynne, Darcel tem um numero médio de X de: 3.066747672452012\n",
            "O ator Bailey, Jack (I) tem um numero médio de X de: 3.4919623651499974\n",
            "O ator Snipes, Jon Jon tem um numero médio de X de: 3.084325380535623\n",
            "O ator Berardinucci, Carlo tem um numero médio de X de: 2.966798574736047\n",
            "O ator Vienhage, Rocco tem um numero médio de X de: 3.0214610597527134\n",
            "O ator Abraham, Jorge tem um numero médio de X de: 2.9860921823943776\n",
            "O ator Ozawa, Keiko tem um numero médio de X de: 3.7593471371570253\n",
            "O ator Freeman, Messiri tem um numero médio de X de: 2.8147485262967766\n",
            "O ator Reed, Tracy (I) tem um numero médio de X de: 3.0416988226794306\n",
            "O ator Weatherford, Miki tem um numero médio de X de: 3.128142395034564\n",
            "O ator Stoneham Sr., John tem um numero médio de X de: 3.082042987799872\n",
            "O ator Fraunces, Dave tem um numero médio de X de: 2.93182377957669\n",
            "O ator de Bruin, Sandra tem um numero médio de X de: 3.1269765685292525\n",
            "O ator Mutambirwa, Garikayi tem um numero médio de X de: 3.0330372243477117\n",
            "O ator Trout, Niesha tem um numero médio de X de: 3.003973662173035\n",
            "O ator Verbaan, Renate tem um numero médio de X de: 3.0865831431339386\n",
            "O ator Wilson, James R. tem um numero médio de X de: 2.981075844403212\n",
            "O ator Pirotte, Renaud tem um numero médio de X de: 4.25668708231392\n",
            "O ator Costa, Ishe tem um numero médio de X de: 3.0486445214364295\n",
            "O ator Tarbet, Andrew tem um numero médio de X de: 2.9345413047404802\n",
            "O ator Parfrey, Woodrow tem um numero médio de X de: 2.8373015221424938\n",
            "O ator Woodside, D.B. tem um numero médio de X de: 3.1374443769396234\n",
            "O ator Monsarat, Nancy tem um numero médio de X de: 3.0063135252294706\n",
            "O ator Rogers, Kivi tem um numero médio de X de: 3.067593307170654\n",
            "O ator Titov, Pavel tem um numero médio de X de: 4.42064169718067\n",
            "O ator Kara, Nick tem um numero médio de X de: 4.135868048143709\n",
            "O ator Keller, Chad tem um numero médio de X de: 2.899172427382145\n",
            "O ator Barron, Dana tem um numero médio de X de: 3.051797179028259\n",
            "O ator McDermott, Patrick (I) tem um numero médio de X de: 3.1202032807343065\n",
            "O ator Trevor, Austin tem um numero médio de X de: 3.3334592207024514\n",
            "O ator Nugent, Patrick (I) tem um numero médio de X de: 2.9915190226761466\n",
            "O ator Canibus tem um numero médio de X de: 3.032602091919673\n",
            "O ator Skillington, Irene tem um numero médio de X de: 3.2032478941232494\n",
            "O ator Rydnemalm, Therese tem um numero médio de X de: 3.9830708855355414\n",
            "O ator Denny, Scott (I) tem um numero médio de X de: 3.022134283509302\n",
            "O ator Wilding, Chris (I) tem um numero médio de X de: 2.984244922086665\n",
            "O ator Lorimer, Paolo tem um numero médio de X de: 3.174184331948572\n",
            "O ator Black, Maurice (I) tem um numero médio de X de: 3.4084251490123316\n",
            "O ator Ortiz, Daniel A. tem um numero médio de X de: 3.0583652156779033\n",
            "O ator Holliday, Annie tem um numero médio de X de: 3.0404098454869377\n",
            "O ator Tedlie, Dan tem um numero médio de X de: 3.0044908950591944\n",
            "O ator Stepp, Jodiviah tem um numero médio de X de: 2.9596558348795585\n",
            "O ator Roberts, Denise Lynne tem um numero médio de X de: 3.031707196926159\n",
            "O ator Ramírez, Arcelia tem um numero médio de X de: 3.50467151606706\n",
            "O ator Lucas, Robert (II) tem um numero médio de X de: 2.977291013283854\n",
            "O ator Iannaccone, Robert tem um numero médio de X de: 2.953941642994368\n",
            "O ator Cheza, Fidelis tem um numero médio de X de: 3.113134431290127\n",
            "O ator Holaas, Kristen tem um numero médio de X de: 3.0420272245119127\n",
            "O ator Youngbloodz tem um numero médio de X de: 2.9851726572634276\n",
            "O ator Levine, Samm tem um numero médio de X de: 2.9244922086665244\n",
            "O ator McKinney, Crystal tem um numero médio de X de: 3.0063135252294706\n",
            "O ator McComb, Heather tem um numero médio de X de: 2.7037076566887244\n",
            "O ator Flory, Med tem um numero médio de X de: 3.136040459105762\n",
            "O ator Dunn, Nora tem um numero médio de X de: 2.450895715998095\n",
            "O ator Pozzo, Edward M. tem um numero médio de X de: 2.967553898950756\n",
            "O ator Cole, George (I) tem um numero médio de X de: 2.9148289847457347\n",
            "O ator Sumner, Adam tem um numero médio de X de: 3.0738657821710644\n",
            "O ator Mabius, Eric tem um numero médio de X de: 2.758673913400437\n",
            "O ator Regnault, Nicole tem um numero médio de X de: 3.9953777442078127\n",
            "O ator Payne, Bruce (I) tem um numero médio de X de: 2.9004203543455773\n",
            "O ator Bell, Mia tem um numero médio de X de: 3.092387645523062\n",
            "O ator Sparling, Deena tem um numero médio de X de: 3.1747097748805437\n",
            "O ator Preston, Jamie tem um numero médio de X de: 2.981552027060311\n",
            "O ator Lias, Adam tem um numero médio de X de: 3.032774502881726\n",
            "O ator Swafford, Savannah tem um numero médio de X de: 2.9799428580811482\n",
            "O ator Masters, Giles tem um numero médio de X de: 3.103036074941298\n",
            "O ator Yakunina, Valentina tem um numero médio de X de: 2.974786949311177\n",
            "O ator Bookwalter, J.R. tem um numero médio de X de: 3.237418104793025\n",
            "O ator Bradley, John (I) tem um numero médio de X de: 2.750201146122395\n",
            "O ator Selland, Marie tem um numero médio de X de: 3.303574653946569\n",
            "O ator Tenenbaum, Graciela tem um numero médio de X de: 4.734134086468202\n",
            "O ator Danton, Mitch tem um numero médio de X de: 3.0139734979721187\n",
            "O ator Lunak, Alvin William 'Dutch' tem um numero médio de X de: 3.0182016715653273\n",
            "O ator Tryasorukov, Mikhail tem um numero médio de X de: 3.4337038800676507\n",
            "O ator Ezch, Fidelis tem um numero médio de X de: 3.0721088323672845\n",
            "O ator Finsterwald, Joseph tem um numero médio de X de: 3.292950854665769\n",
            "O ator Dos Remedios, Maria tem um numero médio de X de: 3.010632009326612\n",
            "O ator Hutchinson, Jules tem um numero médio de X de: 3.4772089128257337\n",
            "O ator Zelenko, Sue tem um numero médio de X de: 3.3929492126566068\n",
            "O ator Carr, Marian tem um numero médio de X de: 3.161352030344329\n",
            "O ator Lilja, Lennart tem um numero médio de X de: 3.42467282967439\n",
            "O ator Verhaeghe, Thibault tem um numero médio de X de: 3.829387037979672\n",
            "O ator Crawley, Jane tem um numero médio de X de: 2.9444344099440074\n",
            "O ator Jones, Sam J. (I) tem um numero médio de X de: 2.953547560795389\n",
            "O ator Ortega, Jessica tem um numero médio de X de: 3.1203592716047357\n",
            "O ator Beauchamp, Marc James tem um numero médio de X de: 3.096024695817803\n",
            "O ator Vadim, Roger tem um numero médio de X de: 2.9619956979359943\n",
            "O ator Crowther, Jim (I) tem um numero médio de X de: 2.964105679709693\n",
            "O ator Pfeifer, Ed tem um numero médio de X de: 2.997955698592798\n",
            "O ator Saper, Craig (I) tem um numero médio de X de: 3.114842120819034\n",
            "O ator King, Jennifer (I) tem um numero médio de X de: 3.153913728838607\n",
            "O ator Lyons, Thomas (I) tem um numero médio de X de: 2.9267417612190276\n",
            "O ator Higgins, John (I) tem um numero médio de X de: 2.895937669332195\n",
            "O ator Woodward, Joanne tem um numero médio de X de: 2.840454179734323\n",
            "O ator Callahan, David (I) tem um numero médio de X de: 3.0923055450649413\n",
            "O ator Christoff, Russ tem um numero médio de X de: 3.0558447316136026\n",
            "O ator Intveld, James tem um numero médio de X de: 3.063012101607527\n",
            "O ator Ornstein, Fred tem um numero médio de X de: 2.9702467939771102\n",
            "O ator Harter, Renee tem um numero médio de X de: 3.0861069604768394\n",
            "O ator Mann, Jazz tem um numero médio de X de: 2.9767409402144462\n",
            "O ator Krejcik, Robert tem um numero médio de X de: 3.053430978144858\n",
            "O ator Pina, Lionel tem um numero médio de X de: 2.846504983497808\n",
            "O ator Magasiva, Robbie tem um numero médio de X de: 3.003571369928244\n",
            "O ator Lee, Kevin (IV) tem um numero médio de X de: 2.919270619530057\n",
            "O ator Barker, Bob tem um numero médio de X de: 3.051780758936635\n",
            "O ator Consoli, Michael tem um numero médio de X de: 2.971929853368582\n",
            "O ator Mulvey, Logan tem um numero médio de X de: 3.0930116090047783\n",
            "O ator Quiroz, Samuel tem um numero médio de X de: 3.834272015237845\n",
            "O ator Kapur, Ram tem um numero médio de X de: 3.71399484409123\n",
            "O ator Powell, Dave (IV) tem um numero médio de X de: 3.1568447151935106\n",
            "O ator Sékulic, Olga tem um numero médio de X de: 2.9253788936142264\n",
            "O ator Fittanto, Carlo tem um numero médio de X de: 3.2404722418351093\n",
            "O ator Eaton, Marjorie tem um numero médio de X de: 2.985525689233346\n",
            "O ator Randle, Angela tem um numero médio de X de: 3.2059325791037914\n",
            "O ator Linke, Paul (I) tem um numero médio de X de: 2.864961166483309\n",
            "O ator Gayda, Jennifer tem um numero médio de X de: 2.9845569038275235\n",
            "O ator Richards, Glenford O. tem um numero médio de X de: 3.0794650334148863\n",
            "O ator Burton-Gill, Leigh tem um numero médio de X de: 3.060040065023563\n",
            "O ator Smith, Tricia tem um numero médio de X de: 3.2927209733830316\n",
            "O ator Sasportes, Jean-Laurent tem um numero médio de X de: 3.45690546953252\n",
            "O ator Hall, Alonzo tem um numero médio de X de: 3.0947767688543704\n",
            "O ator Warner, Sofia tem um numero médio de X de: 2.9839411503916193\n",
            "O ator Miller, Dan (VII) tem um numero médio de X de: 3.100835782663667\n",
            "O ator Milo, Rad tem um numero médio de X de: 2.9909278993776787\n",
            "O ator Hazell, Scott tem um numero médio de X de: 3.1595540303114893\n",
            "O ator Gerdisch, Lori Ann tem um numero médio de X de: 2.9708214971839544\n",
            "O ator Rollins Jr., Howard E. tem um numero médio de X de: 2.9040327745028818\n",
            "O ator Jones, Dale (IV) tem um numero médio de X de: 2.936823697476232\n",
            "O ator Malloy, John (III) tem um numero médio de X de: 3.1261391438564226\n",
            "O ator Hutson, James tem um numero médio de X de: 2.9217172131820495\n",
            "O ator Simmonds, Stanley tem um numero médio de X de: 3.006370995550155\n",
            "O ator Martens, Layton tem um numero médio de X de: 3.107600860412801\n",
            "O ator Descoureaux, Marie-Laure tem um numero médio de X de: 3.0974942940181607\n",
            "O ator Keung, Wang Tak tem um numero médio de X de: 3.398170801793074\n",
            "O ator Powers, Alexandra tem um numero médio de X de: 2.592239864698445\n",
            "O ator Nelson, Sandy (II) tem um numero médio de X de: 3.024014384000263\n",
            "O ator Jim, Pui Ho tem um numero médio de X de: 0.9767441860465116\n",
            "O ator Vakani, Bhim tem um numero médio de X de: 3.47080507709233\n",
            "O ator Watson, Doc tem um numero médio de X de: 3.057856192837556\n",
            "O ator Fonda, Matthew tem um numero médio de X de: 3.0669118733682534\n",
            "O ator Blair, Henry tem um numero médio de X de: 3.3180079144841628\n",
            "O ator Ross, Don John tem um numero médio de X de: 2.9628741728378842\n",
            "O ator Telémaco, Pedro tem um numero médio de X de: 3.0277171146615\n",
            "O ator Storm, Gregory tem um numero médio de X de: 3.0016584292540354\n",
            "O ator Selepegno, Ann tem um numero médio de X de: 2.998924483998621\n",
            "O ator Evans, Merle tem um numero médio de X de: 3.0865913531797506\n",
            "O ator Bernard, Byron tem um numero médio de X de: 3.0753189602797986\n",
            "O ator Graff, Michele tem um numero médio de X de: 3.0337186581501125\n",
            "O ator Lakshmi, Padma tem um numero médio de X de: 3.1169603126385446\n",
            "O ator Díaz, Jennifer tem um numero médio de X de: 3.0277171146615\n",
            "O ator Armstrong, Todd (I) tem um numero médio de X de: 3.4947702008177206\n",
            "O ator Dax, Donna tem um numero médio de X de: 3.2731071739380306\n",
            "O ator Erbe, Kathryn tem um numero médio de X de: 2.776974105515509\n",
            "O ator Caruso, Anthony (I) tem um numero médio de X de: 3.194052642813747\n",
            "O ator Barnard, Ivor tem um numero médio de X de: 3.278919886372966\n",
            "O ator Moreno, Simone tem um numero médio de X de: 3.1730677657181325\n",
            "O ator Leng, Marian tem um numero médio de X de: 2.967553898950756\n",
            "O ator Garmendia, Olatz Lopez tem um numero médio de X de: 2.8944188108569646\n",
            "O ator Friedman, David F. tem um numero médio de X de: 3.3457168190998505\n",
            "O ator Robinson, David (IV) tem um numero médio de X de: 2.9158552404722418\n",
            "O ator Di Cicco, Jessica tem um numero médio de X de: 2.8720300159274887\n",
            "O ator Held, Karl tem um numero médio de X de: 3.018324822252508\n",
            "O ator Perry, John Bennett tem um numero médio de X de: 2.6724438022364163\n",
            "O ator Pallotta, Tommy tem um numero médio de X de: 3.6039063397973763\n",
            "O ator Fox, Megan (I) tem um numero médio de X de: 3.148166696770168\n",
            "O ator Delia, Russell P. tem um numero médio de X de: 3.154398121541518\n",
            "O ator Nakamura, Daiki tem um numero médio de X de: 3.105425198272606\n",
            "O ator Oestermann, Grégoire tem um numero médio de X de: 3.7152099308714144\n",
            "O ator Lee, Jong-su tem um numero médio de X de: 0.9615384615384616\n",
            "O ator Vriesendorp, Esther tem um numero médio de X de: 3.9567084284330307\n",
            "O ator Carlin, Tom tem um numero médio de X de: 3.0359600006568037\n",
            "O ator Sample, Lisa tem um numero médio de X de: 2.924336217796095\n",
            "O ator Sanchez, Jacob tem um numero médio de X de: 3.2654143610121347\n",
            "O ator Snay, Tim tem um numero médio de X de: 2.8921035779379647\n",
            "O ator Cox, Richard Ian tem um numero médio de X de: 2.9324559531042182\n",
            "O ator Stack, Patrick tem um numero médio de X de: 2.9708707574588264\n",
            "O ator Balfa, Dewey tem um numero médio de X de: 3.109669791957439\n",
            "O ator Giraud, Jean tem um numero médio de X de: 3.022881397678199\n",
            "O ator Sharma, Paul (II) tem um numero médio de X de: 3.0903597642074843\n",
            "O ator Mussolini, Benito tem um numero médio de X de: 2.815528480648922\n",
            "O ator Ehrhardt, Danny tem um numero médio de X de: 2.984909935797442\n",
            "O ator Eivers, Kris tem um numero médio de X de: 3.1514835552782383\n",
            "O ator Murillo-Carr, Gerardo tem um numero médio de X de: 2.9387037979671926\n",
            "O ator Miranda, Walter (I) tem um numero médio de X de: 3.015952119012824\n",
            "O ator Álvarez, José Ignacio tem um numero médio de X de: 3.0952775816489058\n",
            "O ator Struys, Bert tem um numero médio de X de: 3.258665703354625\n",
            "O ator Epstein, Peter (I) tem um numero médio de X de: 2.857391504244594\n",
            "O ator Jonas, Steve tem um numero médio de X de: 3.023062018686064\n",
            "O ator Howson, Patricia tem um numero médio de X de: 3.033185005172329\n",
            "O ator Redgrave, Jemma tem um numero médio de X de: 3.090417234528169\n",
            "O ator Soltes, Alfred tem um numero médio de X de: 3.027610384065943\n",
            "O ator Lee, Sammy (IV) tem um numero médio de X de: 3.434204692862186\n",
            "O ator Talvano, Robert tem um numero médio de X de: 3.020081772056288\n",
            "O ator Cochrane, Rory tem um numero médio de X de: 2.7964319140900806\n",
            "O ator Ruschak, Michael tem um numero médio de X de: 3.02799625621911\n",
            "O ator Lupe, Kendall tem um numero médio de X de: 3.04225710579465\n",
            "O ator Smart, Jonathan (I) tem um numero médio de X de: 3.0784223575967555\n",
            "O ator Darling, Wyatt tem um numero médio de X de: 2.95275118635162\n",
            "O ator Gooden, Casey tem um numero médio de X de: 0.9473684210526315\n",
            "O ator Edo, Sawan tem um numero médio de X de: 3.080860741202936\n",
            "O ator Yoffe, Lori tem um numero médio de X de: 3.0243920461076175\n",
            "O ator Batarda, Beatriz tem um numero médio de X de: 3.8385987093807983\n",
            "O ator Bonds, D.B. tem um numero médio de X de: 2.95275118635162\n",
            "O ator Nakado, Hiro tem um numero médio de X de: 2.967553898950756\n",
            "O ator Gaines, Mickey tem um numero médio de X de: 3.1185776916635195\n",
            "O ator Pulice, Tim tem um numero médio de X de: 2.951462209159127\n",
            "O ator Bracken, Patrick tem um numero médio de X de: 3.196154414541633\n",
            "O ator Odadjian, Shavo tem um numero médio de X de: 2.895256235529794\n",
            "O ator Tandjung, Andre tem um numero médio de X de: 3.2805290553521287\n",
            "O ator Cassidy, Cory tem um numero médio de X de: 2.8959622994696312\n",
            "O ator Kurosawa, Todd tem um numero médio de X de: 3.0792926224528334\n",
            "O ator Tabari, Ula tem um numero médio de X de: 3.070540713617182\n",
            "O ator Salomao, Marina tem um numero médio de X de: 3.1730677657181325\n",
            "O ator Aidem, Betsy tem um numero médio de X de: 2.7864813385658693\n",
            "O ator Marshall, Nathaniel tem um numero médio de X de: 3.0205825848508234\n",
            "O ator Krainin, Todd tem um numero médio de X de: 2.898646984450173\n",
            "O ator Laskin, Michael tem um numero médio de X de: 2.6061723124415033\n",
            "O ator Clark, Jo Deodato tem um numero médio de X de: 3.0460173067765717\n",
            "O ator Soler, Tanya tem um numero médio de X de: 3.1272392899952384\n",
            "O ator Craggs, Vicky tem um numero médio de X de: 2.882801596032906\n",
            "O ator Abel, Dieudonne S. tem um numero médio de X de: 3.0277171146615\n",
            "O ator Snegoff, Marc tem um numero médio de X de: 3.0022495525525033\n",
            "O ator Jones, January (I) tem um numero médio de X de: 2.6014843762828197\n",
            "O ator Callau, Tanya tem um numero médio de X de: 3.0167567035024057\n",
            "O ator Gyatso, Samta tem um numero médio de X de: 3.0187024843598627\n",
            "O ator Ruben, Eric tem um numero médio de X de: 3.077289371274692\n",
            "O ator Braden, John (I) tem um numero médio de X de: 2.9947784108635327\n",
            "O ator Lakin, Christine tem um numero médio de X de: 3.0856554079571765\n",
            "O ator Trowbridge, R. Gern tem um numero médio de X de: 2.910723961839707\n",
            "O ator Cooper, Edna Mae tem um numero médio de X de: 3.040910658281473\n",
            "O ator Echeverria Jimenez El Gitano, Romeo tem um numero médio de X de: 3.0593914714044104\n",
            "O ator Cohen, Henry (II) tem um numero médio de X de: 3.1088487873762336\n",
            "O ator Chace, H. Haile tem um numero médio de X de: 3.205095154430962\n",
            "O ator Alexander, Newell tem um numero médio de X de: 2.7072790266169684\n",
            "O ator Gainer, James F. tem um numero médio de X de: 2.9689249766013694\n",
            "O ator Uribe, Diana tem um numero médio de X de: 3.003587790019868\n",
            "O ator Laing, Robin (II) tem um numero médio de X de: 3.431971560401307\n",
            "O ator Mehta, Rishi tem um numero médio de X de: 3.0493505853762666\n",
            "O ator Kyriakou, Romana tem um numero médio de X de: 3.2629102970394577\n",
            "O ator Schuster, Maria tem um numero médio de X de: 3.0185054432603735\n",
            "O ator Romero, Francisco (IV) tem um numero médio de X de: 3.50467151606706\n",
            "O ator Yu, Hae-jin tem um numero médio de X de: 3.838795750480288\n",
            "O ator Scharnitzky, Gabrielle tem um numero médio de X de: 3.194405674783665\n",
            "O ator Cronin, Wally tem um numero médio de X de: 3.049588676704816\n",
            "O ator Parmalee, William tem um numero médio de X de: 3.641968112182066\n",
            "O ator Anand, Vikas tem um numero médio de X de: 3.9237861447266877\n",
            "O ator Ankers, Evelyn tem um numero médio de X de: 3.490821168782122\n",
            "O ator Page, Nicholas (I) tem um numero médio de X de: 3.1991100310339733\n",
            "O ator Baxley, Gary tem um numero médio de X de: 3.068964384821267\n",
            "O ator McKenzie, Richard (I) tem um numero médio de X de: 2.8461191113446414\n",
            "O ator Womelsdorf, Sam tem um numero médio de X de: 3.0486445214364295\n",
            "O ator Sweeney, Kadee tem um numero médio de X de: 2.913515377415806\n",
            "O ator Price, Alex (II) tem um numero médio de X de: 3.1747097748805437\n",
            "O ator Germon, Nane tem um numero médio de X de: 3.2150867801842336\n",
            "O ator Buono, Victor tem um numero médio de X de: 3.017988210374214\n",
            "O ator Grow, Lincoln tem um numero médio de X de: 3.171770578479828\n",
            "O ator McGaughey, Nicholas tem um numero médio de X de: 2.9248534506822548\n",
            "O ator Roe, Bob tem um numero médio de X de: 3.2946585441946765\n",
            "O ator Esterhazy, Andrea tem um numero médio de X de: 3.472110474376447\n",
            "O ator Macdonald, Andrew (I) tem um numero médio de X de: 3.1873696655227337\n",
            "O ator Cherepnya, Yuriy tem um numero médio de X de: 2.990706228140753\n",
            "O ator Berti, Ryan tem um numero médio de X de: 3.0468383113577775\n",
            "O ator Paterson, Caroline tem um numero médio de X de: 3.050048439270291\n",
            "O ator Lee, Dani (II) tem um numero médio de X de: 2.736260488333525\n",
            "O ator McKenna, Alan (I) tem um numero médio de X de: 3.3457168190998505\n",
            "O ator Derbyshire, John tem um numero médio de X de: 3.7913745258698546\n",
            "O ator Gullahorn, Daniel tem um numero médio de X de: 3.062437398400683\n",
            "O ator Roth, Brandon tem um numero médio de X de: 3.00587018275562\n",
            "O ator VeSota, Bruno tem um numero médio de X de: 3.2892070737754717\n",
            "O ator Finn, Kenneth tem um numero médio de X de: 2.857005632091427\n",
            "O ator Larussa, Adrienne tem um numero médio de X de: 3.139505098438449\n",
            "O ator Brown, Rod (I) tem um numero médio de X de: 3.0864435723551336\n",
            "O ator Gísladóttir, Guðrún tem um numero médio de X de: 3.8523505361159915\n",
            "O ator Nizzica, Cesare tem um numero médio de X de: 3.782589776850955\n",
            "O ator Beehner, Shirley tem um numero médio de X de: 2.9870445477085763\n",
            "O ator Blumberg, Stuart tem um numero médio de X de: 2.842367120408532\n",
            "O ator Neuman, Joan tem um numero médio de X de: 2.908967012035927\n",
            "O ator Grellis, Brian tem um numero médio de X de: 2.9869706572962675\n",
            "O ator Brannen, Ralph tem um numero médio de X de: 3.1694799756982643\n",
            "O ator Brown, Gaye tem um numero médio de X de: 2.971855962956273\n",
            "O ator Martínez, Fernando (I) tem um numero médio de X de: 3.834272015237845\n",
            "O ator Milner, Kellie tem um numero médio de X de: 3.1047027142411454\n",
            "O ator De Harp, Eddie tem um numero médio de X de: 2.799453210948917\n",
            "O ator Deary, Alexandra tem um numero médio de X de: 3.0792926224528334\n",
            "O ator Bouvy, Harry tem um numero médio de X de: 2.95275118635162\n",
            "O ator Hernandez, Bel tem um numero médio de X de: 3.1526658018751745\n",
            "O ator Ferguson, Kikka tem um numero médio de X de: 3.1237089702960543\n",
            "O ator Scott, Joe (I) tem um numero médio de X de: 3.07880001970411\n",
            "O ator Keeka, Suzanna tem um numero médio de X de: 3.408236317958654\n",
            "O ator Harada, Masao (I) tem um numero médio de X de: 3.2877128454376776\n",
            "O ator Redman, Anthony (I) tem um numero médio de X de: 2.9852137074924876\n",
            "O ator Walker, Sullivan tem um numero médio de X de: 2.857719906077076\n",
            "O ator Jones, Seth tem um numero médio de X de: 2.9538513324904354\n",
            "O ator Hochmair, Philipp tem um numero médio de X de: 3.7454393195514033\n",
            "O ator Delman, Roxann tem um numero médio de X de: 3.4000344821924107\n",
            "O ator Lovett, Julien tem um numero médio de X de: 3.0642682386167714\n",
            "O ator Gonzáles, Alfredo tem um numero médio de X de: 3.3328106270832993\n",
            "O ator Parker, Sage tem um numero médio de X de: 3.0270603109965353\n",
            "O ator Junichi tem um numero médio de X de: 3.64613881545459\n",
            "O ator Rad, Mike tem um numero médio de X de: 3.0996371159751073\n",
            "O ator Grass, Jenny tem um numero médio de X de: 4.161622961856128\n",
            "O ator Kane, Jayson tem um numero médio de X de: 2.82147255381685\n",
            "O ator Brice, Ron tem um numero médio de X de: 2.7578118585901708\n",
            "O ator Ellefsen, Per Christian tem um numero médio de X de: 4.128249125630121\n",
            "O ator Frøge, Peter tem um numero médio de X de: 3.880297532060229\n",
            "O ator Scott, Larry B. tem um numero médio de X de: 2.8255201064021938\n",
            "O ator Risho, Kiyoshi tem um numero médio de X de: 3.95362966125351\n",
            "O ator Whang, Ing-Sik tem um numero médio de X de: 3.187131574194184\n",
            "O ator Forster, Robert (I) tem um numero médio de X de: 2.5270931511797836\n",
            "O ator Taylor, Scott (IX) tem um numero médio de X de: 3.0209848770956143\n",
            "O ator Jones, Mark (XX) tem um numero médio de X de: 3.0016584292540354\n",
            "O ator Reyez, Brett tem um numero médio de X de: 3.050040229224479\n",
            "O ator Guyton, Tony tem um numero médio de X de: 3.050450731515082\n",
            "O ator Herbert, Charles (I) tem um numero médio de X de: 3.057256859493276\n",
            "O ator Huston, Walter tem um numero médio de X de: 3.271399484409123\n",
            "O ator Ahluwalia, Dolly tem um numero médio de X de: 4.000361242015731\n",
            "O ator Waters, Zoe tem um numero médio de X de: 3.0547938457496593\n",
            "O ator Mathison, Cameron tem um numero médio de X de: 2.985985451798821\n",
            "O ator Ventimiglia, Milo tem um numero médio de X de: 2.873130162066304\n",
            "O ator Lancaster, Pete tem um numero médio de X de: 3.0246958178026633\n",
            "O ator Loree, Brad tem um numero médio de X de: 2.88193954122264\n",
            "O ator Hatfield, Mert tem um numero médio de X de: 2.8112838869640893\n",
            "O ator Belver, Carla tem um numero médio de X de: 3.010894730792598\n",
            "O ator Mayotte, France tem um numero médio de X de: 3.0548677361619676\n",
            "O ator Murzenko, Konstantin tem um numero médio de X de: 3.5203855437513343\n",
            "O ator Cordera, Michael tem um numero médio de X de: 3.9005599251243823\n",
            "O ator Smith, David Alan tem um numero médio de X de: 2.983218666360158\n",
            "O ator Hagane, Tomoko tem um numero médio de X de: 3.0025861644307974\n",
            "O ator Cunningham, Casey (I) tem um numero médio de X de: 2.9846882645605164\n",
            "O ator Hall, Lois tem um numero médio de X de: 2.7577215480862383\n",
            "O ator Pepper, Leah tem um numero médio de X de: 3.055450649414624\n",
            "O ator Rodríguez, Jaime R. tem um numero médio de X de: 3.4544424557889033\n",
            "O ator Levine, Kenny tem um numero médio de X de: 2.9386955879213805\n",
            "O ator Olhagen, Folke tem um numero médio de X de: 4.981256465411077\n",
            "O ator Braun, Brent tem um numero médio de X de: 3.0757869328910856\n",
            "O ator Gentile, Troy tem um numero médio de X de: 2.9315364279732683\n",
            "O ator Flack, Roberta tem um numero médio de X de: 3.132230997848968\n",
            "O ator Baria, Annie tem um numero médio de X de: 2.95275118635162\n",
            "O ator Carbajal, Sergio tem um numero médio de X de: 2.980648922020985\n",
            "O ator Kitto, Bryan James tem um numero médio de X de: 3.077469992282557\n",
            "O ator White, Bradley (I) tem um numero médio de X de: 2.9476691679939573\n",
            "O ator Seely, Tim tem um numero médio de X de: 2.919131048751252\n",
            "O ator Kane, Carol (I) tem um numero médio de X de: 2.412086829444508\n",
            "O ator Aso, Kumiko tem um numero médio de X de: 3.2572864156581995\n",
            "O ator Hartmann, Georg (I) tem um numero médio de X de: 3.352728198223346\n",
            "O ator Clitherow, Helen tem um numero médio de X de: 3.03630482258091\n",
            "O ator Salinas, José tem um numero médio de X de: 3.834272015237845\n",
            "O ator Gemael, Elie tem um numero médio de X de: 3.0880855815175448\n",
            "O ator Cayle, Brian tem um numero médio de X de: 3.0120030869772254\n",
            "O ator Bonehill, Richard tem um numero médio de X de: 2.798558315955403\n",
            "O ator Stallone, Frank (I) tem um numero médio de X de: 2.6863105696129783\n",
            "O ator Hytner, Steve tem um numero médio de X de: 2.5850560746128965\n",
            "O ator Joyce, Adam tem um numero médio de X de: 3.1504655095975433\n",
            "O ator Hollywood, Holly tem um numero médio de X de: 3.0437431240866326\n",
            "O ator Briggs, Tim (I) tem um numero médio de X de: 2.9859279814781368\n",
            "O ator Themmen, Paris tem um numero médio de X de: 3.2946585441946765\n",
            "O ator Santucci, Nancy tem um numero médio de X de: 3.0600318549777508\n",
            "O ator Cortina, Martina tem um numero médio de X de: 3.397899870281276\n",
            "O ator Zelniker, Hayley tem um numero médio de X de: 2.806522060393097\n",
            "O ator Hopkins, Graham (I) tem um numero médio de X de: 2.9159701811136105\n",
            "O ator Tuaolo, Esera tem um numero médio de X de: 3.1116484129981443\n",
            "O ator Allen, Brian (I) tem um numero médio de X de: 2.983169406085286\n",
            "O ator Bogart, Pam tem um numero médio de X de: 3.0944976272967604\n",
            "O ator Dobell, Curzon tem um numero médio de X de: 3.1128306595950805\n",
            "O ator Villani, Michael tem um numero médio de X de: 2.4950247122378943\n",
            "O ator Garewal, Sartaj tem um numero médio de X de: 3.079382932956766\n",
            "O ator Birkett, Janine tem um numero médio de X de: 3.3347646179865684\n",
            "O ator Rita (III) tem um numero médio de X de: 3.500944155268386\n",
            "O ator de Castro, Fany tem um numero médio de X de: 3.6348171622797656\n",
            "O ator Calhan, Heather tem um numero médio de X de: 3.1568447151935106\n",
            "O ator Merrill, Jack tem um numero médio de X de: 2.9701236432899294\n",
            "O ator Uys, Eric tem um numero médio de X de: 3.0483900100162558\n",
            "O ator Cane, Elliot W. tem um numero médio de X de: 3.0200571419188518\n",
            "O ator Hanks, Tom tem um numero médio de X de: 2.3199044350667477\n",
            "O ator Boynton, Mere tem um numero médio de X de: 3.104004860347121\n",
            "O ator Ewing, Patrick tem um numero médio de X de: 2.763731301620663\n",
            "O ator Mosca, Bernard A. tem um numero médio de X de: 3.0003119817408583\n",
            "O ator Fabrega, Enrique Alemán tem um numero médio de X de: 3.1878868984088933\n",
            "O ator Blake, Crystal Michelle tem um numero médio de X de: 3.02711778131722\n",
            "O ator Menachemoff, Karine tem um numero médio de X de: 3.8846652764322425\n",
            "O ator Chatman, Glenndon tem um numero médio de X de: 2.8285414032610303\n",
            "O ator Beck, Glenn (I) tem um numero médio de X de: 2.989581451864501\n",
            "O ator Baldwin, Tammy (II) tem um numero médio de X de: 3.0783402571386347\n",
            "O ator Keogh, Jeff tem um numero médio de X de: 3.1183231802433458\n",
            "O ator Boissonnault, Tyler tem um numero médio de X de: 3.078249946634702\n",
            "O ator Kennerly, Fannie tem um numero médio de X de: 2.967553898950756\n",
            "O ator Summerour, John tem um numero médio de X de: 3.1349895732418185\n",
            "O ator Znyk, Daniel tem um numero médio de X de: 3.578077535672649\n",
            "O ator McCoy, Izeqiel Denn tem um numero médio de X de: 3.365700070606394\n",
            "O ator Ould, Johnnie tem um numero médio de X de: 3.1288484589744012\n",
            "O ator Cloutman, Nicholas J.M. tem um numero médio de X de: 3.057429270455329\n",
            "O ator Harada, Yoshio tem um numero médio de X de: 3.7645358861102447\n",
            "O ator Malek, Jirí tem um numero médio de X de: 3.0835454261834783\n",
            "O ator Wright, Sharone tem um numero médio de X de: 2.9801645293180736\n",
            "O ator Gladman, Bob tem um numero médio de X de: 3.2731071739380306\n",
            "O ator McGreevey, Tom tem um numero médio de X de: 2.9057650941692255\n",
            "O ator Hoffman, Rebecca tem um numero médio de X de: 2.924467578529088\n",
            "O ator Malina, Joshua tem um numero médio de X de: 2.619431536427973\n",
            "O ator Ciompi, Lorenzo tem um numero médio de X de: 3.1591435280208864\n",
            "O ator De Laviolette, Denis tem um numero médio de X de: 3.04161672222131\n",
            "O ator Young, Blumen tem um numero médio de X de: 2.997972118684422\n",
            "O ator Ball, Olive tem um numero médio de X de: 3.4163150030377167\n",
            "O ator Chatelain, Hélène tem um numero médio de X de: 0.9230769230769231\n",
            "O ator Phillips, Bill (IV) tem um numero médio de X de: 3.006502356283148\n",
            "O ator Cudnik, Jennifer tem um numero médio de X de: 3.1898408893121624\n",
            "O ator Sheen, Mary tem um numero médio de X de: 3.098586230111164\n",
            "O ator Szmigiel, Marek tem um numero médio de X de: 2.981256465411077\n",
            "O ator Collier, Barbara tem um numero médio de X de: 3.0278074251654323\n",
            "O ator Frey, Ellen (I) tem um numero médio de X de: 4.835815503850512\n",
            "O ator Walker, Michael J. (II) tem um numero médio de X de: 2.8682369747623193\n",
            "O ator Cowling, Brenda tem um numero médio de X de: 2.9669791957439124\n",
            "O ator Thompson, Cary tem um numero médio de X de: 3.011075351800463\n",
            "O ator Milgrom, Michael tem um numero médio de X de: 2.8048143708641895\n",
            "O ator Rea-Baum, Alexandra tem um numero médio de X de: 3.0724126040623307\n",
            "O ator Harris, Jim (V) tem um numero médio de X de: 3.1487413999770117\n",
            "O ator Garcia, Barney tem um numero médio de X de: 3.044752959721515\n",
            "O ator Xalebaradã, Adão tem um numero médio de X de: 3.8358237138963234\n",
            "O ator Faugno, Max tem um numero médio de X de: 2.955879213806013\n",
            "O ator Mallaby, George tem um numero médio de X de: 3.066287909886537\n",
            "O ator Dettole, Vincenzo tem um numero médio de X de: 3.0056567215645065\n",
            "O ator Hallyday, Johnny (I) tem um numero médio de X de: 3.1965320766489875\n",
            "O ator Vafiadis, Suzanne tem um numero médio de X de: 3.042051854649349\n",
            "O ator De Carlo, Louise tem um numero médio de X de: 2.967553898950756\n",
            "O ator Karfo, Robin tem um numero médio de X de: 3.0111574522585838\n",
            "O ator Cleary, Brigid tem um numero médio de X de: 2.998711022807507\n",
            "O ator Thieck, Andreas tem um numero médio de X de: 3.5012315068718083\n",
            "O ator Gehringer, Linda tem um numero médio de X de: 2.9021773041493573\n",
            "O ator Raffio, Shelly tem um numero médio de X de: 3.0769773895338335\n",
            "O ator Trutz, Wolf tem um numero médio de X de: 3.842243969721351\n",
            "O ator Relf, Keith tem um numero médio de X de: 3.226392013267434\n",
            "O ator Belle, Warren tem um numero médio de X de: 2.920896208600844\n",
            "O ator Eskew, Georgia tem um numero médio de X de: 3.0520270603109965\n",
            "O ator Elliott, Dorothy (III) tem um numero médio de X de: 3.0134808952233954\n",
            "O ator Solgot, Suzanne tem um numero médio de X de: 2.980673552158421\n",
            "O ator Pauley, D.A. tem um numero médio de X de: 2.985386118454541\n",
            "O ator Leung, Ming tem um numero médio de X de: 3.4311998160949737\n",
            "O ator Frankston, Jessica tem um numero médio de X de: 3.0052297991822794\n",
            "O ator Sampson, Robert (I) tem um numero médio de X de: 3.2345363787129933\n",
            "O ator Da Silva, Carlos J. tem um numero médio de X de: 3.036436183313903\n",
            "O ator Williams, Shenika tem um numero médio de X de: 3.02715883154628\n",
            "O ator Hardcastle, Diana tem um numero médio de X de: 3.112461207533538\n",
            "O ator Siegler, Elijah tem um numero médio de X de: 3.219643355609924\n",
            "O ator Prior, David Britten tem um numero médio de X de: 2.9979885387760463\n",
            "O ator Dal Farro, Jérémy tem um numero médio de X de: 4.25668708231392\n",
            "O ator Buie, Michael tem um numero médio de X de: 3.028176877226975\n",
            "O ator Hogg, Elysa tem um numero médio de X de: 3.1421569432357432\n",
            "O ator Springer, Eric tem um numero médio de X de: 3.0581024942119175\n",
            "O ator Peasley, Chelsea tem um numero médio de X de: 3.065852777458498\n",
            "O ator Carey, David (III) tem um numero médio de X de: 3.1646442587149637\n",
            "O ator McGraw, Margaret tem um numero médio de X de: 3.111837244051822\n",
            "O ator Crouzet, Valérie tem um numero médio de X de: 3.7834272015237844\n",
            "O ator Mason, Pamela (I) tem um numero médio de X de: 3.042642977947817\n",
            "O ator Farrell, Mike (V) tem um numero médio de X de: 3.132230997848968\n",
            "O ator Solti, Claudia tem um numero médio de X de: 3.072215562962841\n",
            "O ator Barron, Robert V. tem um numero médio de X de: 3.0699085400896537\n",
            "O ator Waa, Royal tem um numero médio de X de: 3.317490681598003\n",
            "O ator Li, Meng (III) tem um numero médio de X de: 3.8783271210653356\n",
            "O ator Miller, Kristen tem um numero médio de X de: 3.0729873072691745\n",
            "O ator Alvarez, Ramon tem um numero médio de X de: 3.105096796440124\n",
            "O ator Basso, Serge tem um numero médio de X de: 3.3457168190998505\n",
            "O ator Adriaan, Jenayden tem um numero médio de X de: 3.8517676228633357\n",
            "O ator Cosentino, Richard tem um numero médio de X de: 2.9917078537298236\n",
            "O ator Trippel, Dieter R. tem um numero médio de X de: 2.9134332769576856\n",
            "O ator Christmas, Bill tem um numero médio de X de: 3.236539629891135\n",
            "O ator Wax, Doug tem um numero médio de X de: 3.0517725488908227\n",
            "O ator Broun, Heywood Hale tem um numero médio de X de: 3.0184151327564406\n",
            "O ator Guerrera, Juventud tem um numero médio de X de: 2.980221999638758\n",
            "O ator McCrea, Joel tem um numero médio de X de: 3.1594719298533684\n",
            "O ator Texas (II) tem um numero médio de X de: 2.9528414968555525\n",
            "O ator García, Mónica (I) tem um numero médio de X de: 3.742147091180769\n",
            "O ator Aldrich, Sarah tem um numero médio de X de: 3.0536444393359714\n",
            "O ator Chen, Christopher (IV) tem um numero médio de X de: 3.0052297991822794\n",
            "O ator Iakovatos, Gerasimos tem um numero médio de X de: 3.0543422932299964\n",
            "O ator Saiet, Eric tem um numero médio de X de: 2.7399550089489497\n",
            "O ator Frishman, Brian (I) tem um numero médio de X de: 2.90406561468613\n",
            "O ator McClanahan, Rue tem um numero médio de X de: 2.899919541551042\n",
            "O ator Blake, Jerome (I) tem um numero médio de X de: 2.777869000509023\n",
            "O ator Castillo, Raniel David tem um numero médio de X de: 3.024498776703174\n",
            "O ator Gay, Michael (III) tem um numero médio de X de: 3.0769773895338335\n",
            "O ator Zanoline, Carrie tem um numero médio de X de: 3.042380256481831\n",
            "O ator Lazenby, Paul tem um numero médio de X de: 3.009802794699594\n",
            "O ator Shaw, Samantha tem um numero médio de X de: 3.4112411947258665\n"
          ]
        }
      ]
    },
    {
      "cell_type": "markdown",
      "source": [
        "# **QUESTÕES ÉTICAS** ⚖️\n"
      ],
      "metadata": {
        "id": "ki_EKbTqnvAD"
      }
    },
    {
      "cell_type": "markdown",
      "source": [
        "## a) Colaboração no projeto"
      ],
      "metadata": {
        "id": "EBxnEbnRn0W7"
      }
    },
    {
      "cell_type": "markdown",
      "source": [
        "Para a realização do trabalho foi debatido com o Rodrigo Leitão, do Grupo 10 o problema encontrado na base de dados do \"large_dataset_utf8\". A única partilha que foi feita foi o resultado da função \"path_to_X()\" para que conseguíssemos identificar o filme repetido.\n",
        "Não foi partilhada qualquer resposta ou qualquer implementação do projeto."
      ],
      "metadata": {
        "id": "ur3lhMqln4Mr"
      }
    },
    {
      "cell_type": "markdown",
      "source": [
        "## b) Fontes"
      ],
      "metadata": {
        "id": "UZd1aCaXn21p"
      }
    },
    {
      "cell_type": "markdown",
      "source": [
        "\n",
        "\n",
        "Para além do material disponibilizado na U.C., foram também utilizadas algumas páginas de referências à linguagem, e alguns fóruns para estudo de qual o melhor modelo e estrutura de implementação a seguir.\n",
        "\n",
        "*   https://docs.python.org/3/reference/index.html\n",
        "*   https://stackoverflow.com/questions/2776829/difference-between-pythons-generators-and-iterators\n",
        "* https://www.geeksforgeeks.org/how-to-find-size-of-an-object-in-python/\n",
        "\n"
      ],
      "metadata": {
        "id": "d7IqCktvpSlm"
      }
    },
    {
      "cell_type": "markdown",
      "source": [
        "Autores:\n",
        "\n",
        "Francisco Brito, nº 111445\n",
        "\n",
        "Guilherme Penedo, nª 111222"
      ],
      "metadata": {
        "id": "343ADTJ_qQhA"
      }
    }
  ],
  "metadata": {
    "colab": {
      "provenance": [],
      "collapsed_sections": [
        "wNbjKU6O7HrS",
        "AKs43-0N7k19",
        "KlDP-cvR5wwq",
        "dKzYzyep6YlN",
        "TNwD-nyOzRy7",
        "kAsNCV8AqwFf",
        "lMv2OqmGq7pC",
        "jHPDnot4q9lz",
        "29m6xLZWlNkm",
        "YDBndOrY1NTT",
        "uSi-WoWxY49F",
        "ZmxwezRBZ4NC",
        "IOtC1BjQCGJb",
        "VKt7mOEzsvYJ",
        "tSMy6Zn75xti",
        "rdDT3cR352CC",
        "enFY_IAe4Xin",
        "ki_EKbTqnvAD",
        "EBxnEbnRn0W7",
        "UZd1aCaXn21p"
      ]
    },
    "kernelspec": {
      "display_name": "Python 3",
      "name": "python3"
    },
    "language_info": {
      "name": "python"
    }
  },
  "nbformat": 4,
  "nbformat_minor": 0
}